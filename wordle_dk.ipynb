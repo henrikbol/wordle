{
 "cells": [
  {
   "cell_type": "markdown",
   "id": "69fd8f34-26ea-44ee-a870-a6cde30b7466",
   "metadata": {},
   "source": [
    "# Wørdle på dansk\n",
    "\n",
    "En undersøgelse af hvilke bogstaver der er mest forekomne i det danske sprog - og ikke mindst i 5 bogstavs ord.\n",
    "Ligeledes gives et bud på de to første optimale gæt, samt sandsynlighede for antal rigtige bogstaver efter at disse to gæt er brugt.\n"
   ]
  },
  {
   "cell_type": "code",
   "execution_count": 1,
   "id": "4291e7c8-c643-48a3-a27e-fab421ed8d81",
   "metadata": {},
   "outputs": [],
   "source": [
    "import itertools\n",
    "from collections import Counter, OrderedDict\n",
    "\n",
    "import pandas as pd\n",
    "from tqdm.notebook import tqdm, trange"
   ]
  },
  {
   "cell_type": "markdown",
   "id": "274d7d10-1132-44f1-ae5b-f7b0e129a871",
   "metadata": {},
   "source": [
    "### Henter alle danske ord fra retskrivningsordbogen\n",
    "Data er hentet fra Application Storage `data_meta` fra https://roplus.dk/#ordbog/ og skal således forbehandles"
   ]
  },
  {
   "cell_type": "code",
   "execution_count": 58,
   "id": "a2ed3811-8ff4-4f8e-91b2-1bfae8e27bae",
   "metadata": {},
   "outputs": [],
   "source": [
    "with open(\"./data/ord.txt\") as f:\n",
    "    lines = f.readlines()\n",
    "lines = lines[0].split(\"\\\\n\")[4:]"
   ]
  },
  {
   "cell_type": "code",
   "execution_count": 59,
   "id": "1e33a182-1d1e-4ff0-9c61-350ae84a0944",
   "metadata": {},
   "outputs": [
    {
     "name": "stdout",
     "output_type": "stream",
     "text": [
      "Antal ord i retskrivningsordbogen 63,860\n"
     ]
    }
   ],
   "source": [
    "ord = [l.split(\"\\\\\")[0].lstrip(\"0123456789-\") for l in lines]\n",
    "ord = list(OrderedDict.fromkeys(ord))\n",
    "print(f\"Antal ord i retskrivningsordbogen {len(ord):,}\")"
   ]
  },
  {
   "cell_type": "markdown",
   "id": "00cf3929-79e6-4ece-bf20-4c5684573af3",
   "metadata": {},
   "source": [
    "### Tæl bogstaver\n",
    "I alt 63860 ord i ordbogen. Lad os tælle nogle bogstaver. Alle ord lægges i en DataFrame så de er nemmere at håndtere og optælle. Der oprettes en kolonne for hvert bogstav og der optælles hvor mange gange dette bogstav forekommer i ordet."
   ]
  },
  {
   "cell_type": "code",
   "execution_count": 60,
   "id": "20ad2ebd-5160-4fd0-a83e-a02fb23a46cc",
   "metadata": {},
   "outputs": [],
   "source": [
    "def letter_counts(s: str) -> dict:\n",
    "    counts = Counter([l for l in s.lower()])\n",
    "    return counts"
   ]
  },
  {
   "cell_type": "code",
   "execution_count": 61,
   "id": "5eb3341e-162f-4ca3-8369-04be5390b247",
   "metadata": {},
   "outputs": [
    {
     "name": "stdout",
     "output_type": "stream",
     "text": [
      "CPU times: user 5.77 s, sys: 137 ms, total: 5.91 s\n",
      "Wall time: 5.93 s\n"
     ]
    }
   ],
   "source": [
    "%%time\n",
    "df = pd.DataFrame(ord, columns=[\"ord\"])\n",
    "\n",
    "# Længde af ord samt optælling af bogstaver\n",
    "df[\"len\"] = df[\"ord\"].str.len()\n",
    "df[\"count\"] = df[\"ord\"].apply(letter_counts)\n",
    "\n",
    "# Split dict til kolonner\n",
    "df = pd.concat([df.drop([\"count\"], axis=1), df[\"count\"].apply(pd.Series)], axis=1)\n",
    "\n",
    "# Sorter bogstavskolonnerne\n",
    "df = df[[\"ord\", \"len\"] + [i for i in df.columns[2:].sort_values() if i.isalpha()]]"
   ]
  },
  {
   "cell_type": "code",
   "execution_count": 62,
   "id": "09d71fd8-28a2-4df0-8d16-3ff027a98599",
   "metadata": {},
   "outputs": [
    {
     "data": {
      "text/html": [
       "<div>\n",
       "<style scoped>\n",
       "    .dataframe tbody tr th:only-of-type {\n",
       "        vertical-align: middle;\n",
       "    }\n",
       "\n",
       "    .dataframe tbody tr th {\n",
       "        vertical-align: top;\n",
       "    }\n",
       "\n",
       "    .dataframe thead th {\n",
       "        text-align: right;\n",
       "    }\n",
       "</style>\n",
       "<table border=\"1\" class=\"dataframe\">\n",
       "  <thead>\n",
       "    <tr style=\"text-align: right;\">\n",
       "      <th></th>\n",
       "      <th>ord</th>\n",
       "      <th>len</th>\n",
       "      <th>a</th>\n",
       "      <th>b</th>\n",
       "      <th>c</th>\n",
       "      <th>d</th>\n",
       "      <th>e</th>\n",
       "      <th>f</th>\n",
       "      <th>g</th>\n",
       "      <th>h</th>\n",
       "      <th>...</th>\n",
       "      <th>v</th>\n",
       "      <th>w</th>\n",
       "      <th>x</th>\n",
       "      <th>y</th>\n",
       "      <th>z</th>\n",
       "      <th>å</th>\n",
       "      <th>æ</th>\n",
       "      <th>é</th>\n",
       "      <th>ø</th>\n",
       "      <th>ü</th>\n",
       "    </tr>\n",
       "  </thead>\n",
       "  <tbody>\n",
       "    <tr>\n",
       "      <th>14215</th>\n",
       "      <td>flæng</td>\n",
       "      <td>5</td>\n",
       "      <td>NaN</td>\n",
       "      <td>NaN</td>\n",
       "      <td>NaN</td>\n",
       "      <td>NaN</td>\n",
       "      <td>NaN</td>\n",
       "      <td>1.0</td>\n",
       "      <td>1.0</td>\n",
       "      <td>NaN</td>\n",
       "      <td>...</td>\n",
       "      <td>NaN</td>\n",
       "      <td>NaN</td>\n",
       "      <td>NaN</td>\n",
       "      <td>NaN</td>\n",
       "      <td>NaN</td>\n",
       "      <td>NaN</td>\n",
       "      <td>1.0</td>\n",
       "      <td>NaN</td>\n",
       "      <td>NaN</td>\n",
       "      <td>NaN</td>\n",
       "    </tr>\n",
       "    <tr>\n",
       "      <th>57801</th>\n",
       "      <td>tvært</td>\n",
       "      <td>5</td>\n",
       "      <td>NaN</td>\n",
       "      <td>NaN</td>\n",
       "      <td>NaN</td>\n",
       "      <td>NaN</td>\n",
       "      <td>NaN</td>\n",
       "      <td>NaN</td>\n",
       "      <td>NaN</td>\n",
       "      <td>NaN</td>\n",
       "      <td>...</td>\n",
       "      <td>1.0</td>\n",
       "      <td>NaN</td>\n",
       "      <td>NaN</td>\n",
       "      <td>NaN</td>\n",
       "      <td>NaN</td>\n",
       "      <td>NaN</td>\n",
       "      <td>1.0</td>\n",
       "      <td>NaN</td>\n",
       "      <td>NaN</td>\n",
       "      <td>NaN</td>\n",
       "    </tr>\n",
       "    <tr>\n",
       "      <th>42241</th>\n",
       "      <td>professorat</td>\n",
       "      <td>11</td>\n",
       "      <td>1.0</td>\n",
       "      <td>NaN</td>\n",
       "      <td>NaN</td>\n",
       "      <td>NaN</td>\n",
       "      <td>1.0</td>\n",
       "      <td>1.0</td>\n",
       "      <td>NaN</td>\n",
       "      <td>NaN</td>\n",
       "      <td>...</td>\n",
       "      <td>NaN</td>\n",
       "      <td>NaN</td>\n",
       "      <td>NaN</td>\n",
       "      <td>NaN</td>\n",
       "      <td>NaN</td>\n",
       "      <td>NaN</td>\n",
       "      <td>NaN</td>\n",
       "      <td>NaN</td>\n",
       "      <td>NaN</td>\n",
       "      <td>NaN</td>\n",
       "    </tr>\n",
       "    <tr>\n",
       "      <th>46929</th>\n",
       "      <td>selvransagende</td>\n",
       "      <td>14</td>\n",
       "      <td>2.0</td>\n",
       "      <td>NaN</td>\n",
       "      <td>NaN</td>\n",
       "      <td>1.0</td>\n",
       "      <td>3.0</td>\n",
       "      <td>NaN</td>\n",
       "      <td>1.0</td>\n",
       "      <td>NaN</td>\n",
       "      <td>...</td>\n",
       "      <td>1.0</td>\n",
       "      <td>NaN</td>\n",
       "      <td>NaN</td>\n",
       "      <td>NaN</td>\n",
       "      <td>NaN</td>\n",
       "      <td>NaN</td>\n",
       "      <td>NaN</td>\n",
       "      <td>NaN</td>\n",
       "      <td>NaN</td>\n",
       "      <td>NaN</td>\n",
       "    </tr>\n",
       "    <tr>\n",
       "      <th>63150</th>\n",
       "      <td>zinkliniment</td>\n",
       "      <td>12</td>\n",
       "      <td>NaN</td>\n",
       "      <td>NaN</td>\n",
       "      <td>NaN</td>\n",
       "      <td>NaN</td>\n",
       "      <td>1.0</td>\n",
       "      <td>NaN</td>\n",
       "      <td>NaN</td>\n",
       "      <td>NaN</td>\n",
       "      <td>...</td>\n",
       "      <td>NaN</td>\n",
       "      <td>NaN</td>\n",
       "      <td>NaN</td>\n",
       "      <td>NaN</td>\n",
       "      <td>1.0</td>\n",
       "      <td>NaN</td>\n",
       "      <td>NaN</td>\n",
       "      <td>NaN</td>\n",
       "      <td>NaN</td>\n",
       "      <td>NaN</td>\n",
       "    </tr>\n",
       "  </tbody>\n",
       "</table>\n",
       "<p>5 rows × 33 columns</p>\n",
       "</div>"
      ],
      "text/plain": [
       "                  ord  len    a   b   c    d    e    f    g   h  ...    v   w  \\\n",
       "14215           flæng    5  NaN NaN NaN  NaN  NaN  1.0  1.0 NaN  ...  NaN NaN   \n",
       "57801           tvært    5  NaN NaN NaN  NaN  NaN  NaN  NaN NaN  ...  1.0 NaN   \n",
       "42241     professorat   11  1.0 NaN NaN  NaN  1.0  1.0  NaN NaN  ...  NaN NaN   \n",
       "46929  selvransagende   14  2.0 NaN NaN  1.0  3.0  NaN  1.0 NaN  ...  1.0 NaN   \n",
       "63150    zinkliniment   12  NaN NaN NaN  NaN  1.0  NaN  NaN NaN  ...  NaN NaN   \n",
       "\n",
       "        x   y    z   å    æ   é   ø   ü  \n",
       "14215 NaN NaN  NaN NaN  1.0 NaN NaN NaN  \n",
       "57801 NaN NaN  NaN NaN  1.0 NaN NaN NaN  \n",
       "42241 NaN NaN  NaN NaN  NaN NaN NaN NaN  \n",
       "46929 NaN NaN  NaN NaN  NaN NaN NaN NaN  \n",
       "63150 NaN NaN  1.0 NaN  NaN NaN NaN NaN  \n",
       "\n",
       "[5 rows x 33 columns]"
      ]
     },
     "execution_count": 62,
     "metadata": {},
     "output_type": "execute_result"
    }
   ],
   "source": [
    "df.sample(5)"
   ]
  },
  {
   "cell_type": "code",
   "execution_count": null,
   "id": "4d319616-a9d7-4334-93a9-ea9873877f46",
   "metadata": {},
   "outputs": [],
   "source": []
  },
  {
   "cell_type": "code",
   "execution_count": 7,
   "id": "57843caa-aad9-47c7-ad20-1a7e57bc6246",
   "metadata": {},
   "outputs": [
    {
     "data": {
      "text/plain": [
       "{-1: 2459, 3: 219, 2: 380, 4: 264, 1: 277, 0: 160}"
      ]
     },
     "execution_count": 7,
     "metadata": {},
     "output_type": "execute_result"
    }
   ],
   "source": [
    "c = dict()\n",
    "for s in df[df[\"len\"] == 5][\"ord\"]:\n",
    "    p = s.find(\"r\")\n",
    "    c[p] = c.get(p, 0) + 1\n",
    "\n",
    "c"
   ]
  },
  {
   "cell_type": "code",
   "execution_count": 8,
   "id": "a4861b19-23f3-42d5-acc3-58c901e3275d",
   "metadata": {},
   "outputs": [
    {
     "data": {
      "text/plain": [
       "count    63860.000000\n",
       "mean         9.160883\n",
       "std          3.158232\n",
       "min          1.000000\n",
       "25%          7.000000\n",
       "50%          9.000000\n",
       "75%         11.000000\n",
       "max         30.000000\n",
       "Name: len, dtype: float64"
      ]
     },
     "execution_count": 8,
     "metadata": {},
     "output_type": "execute_result"
    }
   ],
   "source": [
    "# Fordeling af længden af ord på dansk\n",
    "df[\"len\"].describe()"
   ]
  },
  {
   "cell_type": "markdown",
   "id": "40105a6b-c445-46b5-a187-18eb1d80e83d",
   "metadata": {},
   "source": [
    "Et gennemsnitligt dansk ord i retskrivbningsordbogen er består af 9 bogstaver"
   ]
  },
  {
   "cell_type": "code",
   "execution_count": null,
   "id": "0ef10aee-ddd3-4cc1-97e6-812bd3765b38",
   "metadata": {},
   "outputs": [],
   "source": []
  },
  {
   "cell_type": "code",
   "execution_count": 9,
   "id": "58bfa484-89b5-4af7-9d6b-ec4713cc0499",
   "metadata": {},
   "outputs": [
    {
     "data": {
      "text/html": [
       "<div>\n",
       "<style scoped>\n",
       "    .dataframe tbody tr th:only-of-type {\n",
       "        vertical-align: middle;\n",
       "    }\n",
       "\n",
       "    .dataframe tbody tr th {\n",
       "        vertical-align: top;\n",
       "    }\n",
       "\n",
       "    .dataframe thead th {\n",
       "        text-align: right;\n",
       "    }\n",
       "</style>\n",
       "<table border=\"1\" class=\"dataframe\">\n",
       "  <thead>\n",
       "    <tr style=\"text-align: right;\">\n",
       "      <th></th>\n",
       "      <th>ord</th>\n",
       "      <th>len</th>\n",
       "      <th>a</th>\n",
       "      <th>b</th>\n",
       "      <th>c</th>\n",
       "      <th>d</th>\n",
       "      <th>e</th>\n",
       "      <th>f</th>\n",
       "      <th>g</th>\n",
       "      <th>h</th>\n",
       "      <th>...</th>\n",
       "      <th>v</th>\n",
       "      <th>w</th>\n",
       "      <th>x</th>\n",
       "      <th>y</th>\n",
       "      <th>z</th>\n",
       "      <th>å</th>\n",
       "      <th>æ</th>\n",
       "      <th>é</th>\n",
       "      <th>ø</th>\n",
       "      <th>ü</th>\n",
       "    </tr>\n",
       "  </thead>\n",
       "  <tbody>\n",
       "    <tr>\n",
       "      <th>50164</th>\n",
       "      <td>social- og sundhedsforvaltning</td>\n",
       "      <td>30</td>\n",
       "      <td>2.0</td>\n",
       "      <td>NaN</td>\n",
       "      <td>1.0</td>\n",
       "      <td>2.0</td>\n",
       "      <td>1.0</td>\n",
       "      <td>1.0</td>\n",
       "      <td>2.0</td>\n",
       "      <td>1.0</td>\n",
       "      <td>...</td>\n",
       "      <td>1.0</td>\n",
       "      <td>NaN</td>\n",
       "      <td>NaN</td>\n",
       "      <td>NaN</td>\n",
       "      <td>NaN</td>\n",
       "      <td>NaN</td>\n",
       "      <td>NaN</td>\n",
       "      <td>NaN</td>\n",
       "      <td>NaN</td>\n",
       "      <td>NaN</td>\n",
       "    </tr>\n",
       "    <tr>\n",
       "      <th>45840</th>\n",
       "      <td>Saint Vincent og Grenadinerne</td>\n",
       "      <td>29</td>\n",
       "      <td>2.0</td>\n",
       "      <td>NaN</td>\n",
       "      <td>1.0</td>\n",
       "      <td>1.0</td>\n",
       "      <td>4.0</td>\n",
       "      <td>NaN</td>\n",
       "      <td>2.0</td>\n",
       "      <td>NaN</td>\n",
       "      <td>...</td>\n",
       "      <td>1.0</td>\n",
       "      <td>NaN</td>\n",
       "      <td>NaN</td>\n",
       "      <td>NaN</td>\n",
       "      <td>NaN</td>\n",
       "      <td>NaN</td>\n",
       "      <td>NaN</td>\n",
       "      <td>NaN</td>\n",
       "      <td>NaN</td>\n",
       "      <td>NaN</td>\n",
       "    </tr>\n",
       "    <tr>\n",
       "      <th>50163</th>\n",
       "      <td>social- og sundhedsassistent</td>\n",
       "      <td>28</td>\n",
       "      <td>2.0</td>\n",
       "      <td>NaN</td>\n",
       "      <td>1.0</td>\n",
       "      <td>2.0</td>\n",
       "      <td>2.0</td>\n",
       "      <td>NaN</td>\n",
       "      <td>1.0</td>\n",
       "      <td>1.0</td>\n",
       "      <td>...</td>\n",
       "      <td>NaN</td>\n",
       "      <td>NaN</td>\n",
       "      <td>NaN</td>\n",
       "      <td>NaN</td>\n",
       "      <td>NaN</td>\n",
       "      <td>NaN</td>\n",
       "      <td>NaN</td>\n",
       "      <td>NaN</td>\n",
       "      <td>NaN</td>\n",
       "      <td>NaN</td>\n",
       "    </tr>\n",
       "    <tr>\n",
       "      <th>59993</th>\n",
       "      <td>undervisningsdifferentiering</td>\n",
       "      <td>28</td>\n",
       "      <td>NaN</td>\n",
       "      <td>NaN</td>\n",
       "      <td>NaN</td>\n",
       "      <td>2.0</td>\n",
       "      <td>4.0</td>\n",
       "      <td>2.0</td>\n",
       "      <td>2.0</td>\n",
       "      <td>NaN</td>\n",
       "      <td>...</td>\n",
       "      <td>1.0</td>\n",
       "      <td>NaN</td>\n",
       "      <td>NaN</td>\n",
       "      <td>NaN</td>\n",
       "      <td>NaN</td>\n",
       "      <td>NaN</td>\n",
       "      <td>NaN</td>\n",
       "      <td>NaN</td>\n",
       "      <td>NaN</td>\n",
       "      <td>NaN</td>\n",
       "    </tr>\n",
       "    <tr>\n",
       "      <th>17484</th>\n",
       "      <td>førstegenerationsindvandrer</td>\n",
       "      <td>27</td>\n",
       "      <td>2.0</td>\n",
       "      <td>NaN</td>\n",
       "      <td>NaN</td>\n",
       "      <td>2.0</td>\n",
       "      <td>4.0</td>\n",
       "      <td>1.0</td>\n",
       "      <td>1.0</td>\n",
       "      <td>NaN</td>\n",
       "      <td>...</td>\n",
       "      <td>1.0</td>\n",
       "      <td>NaN</td>\n",
       "      <td>NaN</td>\n",
       "      <td>NaN</td>\n",
       "      <td>NaN</td>\n",
       "      <td>NaN</td>\n",
       "      <td>NaN</td>\n",
       "      <td>NaN</td>\n",
       "      <td>1.0</td>\n",
       "      <td>NaN</td>\n",
       "    </tr>\n",
       "  </tbody>\n",
       "</table>\n",
       "<p>5 rows × 33 columns</p>\n",
       "</div>"
      ],
      "text/plain": [
       "                                  ord  len    a   b    c    d    e    f    g  \\\n",
       "50164  social- og sundhedsforvaltning   30  2.0 NaN  1.0  2.0  1.0  1.0  2.0   \n",
       "45840   Saint Vincent og Grenadinerne   29  2.0 NaN  1.0  1.0  4.0  NaN  2.0   \n",
       "50163    social- og sundhedsassistent   28  2.0 NaN  1.0  2.0  2.0  NaN  1.0   \n",
       "59993    undervisningsdifferentiering   28  NaN NaN  NaN  2.0  4.0  2.0  2.0   \n",
       "17484     førstegenerationsindvandrer   27  2.0 NaN  NaN  2.0  4.0  1.0  1.0   \n",
       "\n",
       "         h  ...    v   w   x   y   z   å   æ   é    ø   ü  \n",
       "50164  1.0  ...  1.0 NaN NaN NaN NaN NaN NaN NaN  NaN NaN  \n",
       "45840  NaN  ...  1.0 NaN NaN NaN NaN NaN NaN NaN  NaN NaN  \n",
       "50163  1.0  ...  NaN NaN NaN NaN NaN NaN NaN NaN  NaN NaN  \n",
       "59993  NaN  ...  1.0 NaN NaN NaN NaN NaN NaN NaN  NaN NaN  \n",
       "17484  NaN  ...  1.0 NaN NaN NaN NaN NaN NaN NaN  1.0 NaN  \n",
       "\n",
       "[5 rows x 33 columns]"
      ]
     },
     "execution_count": 9,
     "metadata": {},
     "output_type": "execute_result"
    }
   ],
   "source": [
    "# De fem længste ord i retskrivningsordbogen\n",
    "df.loc[df[\"len\"].nlargest(5).index, :]"
   ]
  },
  {
   "cell_type": "code",
   "execution_count": 63,
   "id": "e19fac51-9c89-4677-a748-77fc9c0f70ed",
   "metadata": {},
   "outputs": [],
   "source": [
    "df.to_pickle(\"ord.pkl\")"
   ]
  },
  {
   "cell_type": "markdown",
   "id": "ff68b38f-4aec-4d29-8619-5f72cea772ba",
   "metadata": {},
   "source": [
    "### 5 bogstavs ord\n",
    "Lad os se på bogstavsfordelingen i 5 bogstavs ord"
   ]
  },
  {
   "cell_type": "code",
   "execution_count": 2,
   "id": "3ca05c74-7ad2-46eb-ae40-2647a4655093",
   "metadata": {},
   "outputs": [],
   "source": [
    "df = pd.read_pickle(\"ord.pkl\")"
   ]
  },
  {
   "cell_type": "code",
   "execution_count": 3,
   "id": "c68514cb-9571-4eef-9e38-1970531e9e27",
   "metadata": {},
   "outputs": [
    {
     "name": "stdout",
     "output_type": "stream",
     "text": [
      "Antal ord på 5 bogstaver 3,759\n"
     ]
    }
   ],
   "source": [
    "print(f'Antal ord på 5 bogstaver {df[df[\"len\"] == 5].shape[0]:,}')"
   ]
  },
  {
   "cell_type": "code",
   "execution_count": 4,
   "id": "a0b18f6f-ad0d-40f8-94ce-61c012f4f600",
   "metadata": {},
   "outputs": [
    {
     "data": {
      "text/html": [
       "<div>\n",
       "<style scoped>\n",
       "    .dataframe tbody tr th:only-of-type {\n",
       "        vertical-align: middle;\n",
       "    }\n",
       "\n",
       "    .dataframe tbody tr th {\n",
       "        vertical-align: top;\n",
       "    }\n",
       "\n",
       "    .dataframe thead th {\n",
       "        text-align: right;\n",
       "    }\n",
       "</style>\n",
       "<table border=\"1\" class=\"dataframe\">\n",
       "  <thead>\n",
       "    <tr style=\"text-align: right;\">\n",
       "      <th></th>\n",
       "      <th>ord</th>\n",
       "      <th>len</th>\n",
       "      <th>a</th>\n",
       "      <th>b</th>\n",
       "      <th>c</th>\n",
       "      <th>d</th>\n",
       "      <th>e</th>\n",
       "      <th>f</th>\n",
       "      <th>g</th>\n",
       "      <th>h</th>\n",
       "      <th>...</th>\n",
       "      <th>v</th>\n",
       "      <th>w</th>\n",
       "      <th>x</th>\n",
       "      <th>y</th>\n",
       "      <th>z</th>\n",
       "      <th>å</th>\n",
       "      <th>æ</th>\n",
       "      <th>é</th>\n",
       "      <th>ø</th>\n",
       "      <th>ü</th>\n",
       "    </tr>\n",
       "  </thead>\n",
       "  <tbody>\n",
       "    <tr>\n",
       "      <th>1551</th>\n",
       "      <td>altid</td>\n",
       "      <td>5</td>\n",
       "      <td>1.0</td>\n",
       "      <td>NaN</td>\n",
       "      <td>NaN</td>\n",
       "      <td>1.0</td>\n",
       "      <td>NaN</td>\n",
       "      <td>NaN</td>\n",
       "      <td>NaN</td>\n",
       "      <td>NaN</td>\n",
       "      <td>...</td>\n",
       "      <td>NaN</td>\n",
       "      <td>NaN</td>\n",
       "      <td>NaN</td>\n",
       "      <td>NaN</td>\n",
       "      <td>NaN</td>\n",
       "      <td>NaN</td>\n",
       "      <td>NaN</td>\n",
       "      <td>NaN</td>\n",
       "      <td>NaN</td>\n",
       "      <td>NaN</td>\n",
       "    </tr>\n",
       "    <tr>\n",
       "      <th>23077</th>\n",
       "      <td>hører</td>\n",
       "      <td>5</td>\n",
       "      <td>NaN</td>\n",
       "      <td>NaN</td>\n",
       "      <td>NaN</td>\n",
       "      <td>NaN</td>\n",
       "      <td>1.0</td>\n",
       "      <td>NaN</td>\n",
       "      <td>NaN</td>\n",
       "      <td>1.0</td>\n",
       "      <td>...</td>\n",
       "      <td>NaN</td>\n",
       "      <td>NaN</td>\n",
       "      <td>NaN</td>\n",
       "      <td>NaN</td>\n",
       "      <td>NaN</td>\n",
       "      <td>NaN</td>\n",
       "      <td>NaN</td>\n",
       "      <td>NaN</td>\n",
       "      <td>1.0</td>\n",
       "      <td>NaN</td>\n",
       "    </tr>\n",
       "    <tr>\n",
       "      <th>49072</th>\n",
       "      <td>skønt</td>\n",
       "      <td>5</td>\n",
       "      <td>NaN</td>\n",
       "      <td>NaN</td>\n",
       "      <td>NaN</td>\n",
       "      <td>NaN</td>\n",
       "      <td>NaN</td>\n",
       "      <td>NaN</td>\n",
       "      <td>NaN</td>\n",
       "      <td>NaN</td>\n",
       "      <td>...</td>\n",
       "      <td>NaN</td>\n",
       "      <td>NaN</td>\n",
       "      <td>NaN</td>\n",
       "      <td>NaN</td>\n",
       "      <td>NaN</td>\n",
       "      <td>NaN</td>\n",
       "      <td>NaN</td>\n",
       "      <td>NaN</td>\n",
       "      <td>1.0</td>\n",
       "      <td>NaN</td>\n",
       "    </tr>\n",
       "    <tr>\n",
       "      <th>62795</th>\n",
       "      <td>væsel</td>\n",
       "      <td>5</td>\n",
       "      <td>NaN</td>\n",
       "      <td>NaN</td>\n",
       "      <td>NaN</td>\n",
       "      <td>NaN</td>\n",
       "      <td>1.0</td>\n",
       "      <td>NaN</td>\n",
       "      <td>NaN</td>\n",
       "      <td>NaN</td>\n",
       "      <td>...</td>\n",
       "      <td>1.0</td>\n",
       "      <td>NaN</td>\n",
       "      <td>NaN</td>\n",
       "      <td>NaN</td>\n",
       "      <td>NaN</td>\n",
       "      <td>NaN</td>\n",
       "      <td>1.0</td>\n",
       "      <td>NaN</td>\n",
       "      <td>NaN</td>\n",
       "      <td>NaN</td>\n",
       "    </tr>\n",
       "    <tr>\n",
       "      <th>54799</th>\n",
       "      <td>tegne</td>\n",
       "      <td>5</td>\n",
       "      <td>NaN</td>\n",
       "      <td>NaN</td>\n",
       "      <td>NaN</td>\n",
       "      <td>NaN</td>\n",
       "      <td>2.0</td>\n",
       "      <td>NaN</td>\n",
       "      <td>1.0</td>\n",
       "      <td>NaN</td>\n",
       "      <td>...</td>\n",
       "      <td>NaN</td>\n",
       "      <td>NaN</td>\n",
       "      <td>NaN</td>\n",
       "      <td>NaN</td>\n",
       "      <td>NaN</td>\n",
       "      <td>NaN</td>\n",
       "      <td>NaN</td>\n",
       "      <td>NaN</td>\n",
       "      <td>NaN</td>\n",
       "      <td>NaN</td>\n",
       "    </tr>\n",
       "  </tbody>\n",
       "</table>\n",
       "<p>5 rows × 33 columns</p>\n",
       "</div>"
      ],
      "text/plain": [
       "         ord  len    a   b   c    d    e   f    g    h  ...    v   w   x   y  \\\n",
       "1551   altid    5  1.0 NaN NaN  1.0  NaN NaN  NaN  NaN  ...  NaN NaN NaN NaN   \n",
       "23077  hører    5  NaN NaN NaN  NaN  1.0 NaN  NaN  1.0  ...  NaN NaN NaN NaN   \n",
       "49072  skønt    5  NaN NaN NaN  NaN  NaN NaN  NaN  NaN  ...  NaN NaN NaN NaN   \n",
       "62795  væsel    5  NaN NaN NaN  NaN  1.0 NaN  NaN  NaN  ...  1.0 NaN NaN NaN   \n",
       "54799  tegne    5  NaN NaN NaN  NaN  2.0 NaN  1.0  NaN  ...  NaN NaN NaN NaN   \n",
       "\n",
       "        z   å    æ   é    ø   ü  \n",
       "1551  NaN NaN  NaN NaN  NaN NaN  \n",
       "23077 NaN NaN  NaN NaN  1.0 NaN  \n",
       "49072 NaN NaN  NaN NaN  1.0 NaN  \n",
       "62795 NaN NaN  1.0 NaN  NaN NaN  \n",
       "54799 NaN NaN  NaN NaN  NaN NaN  \n",
       "\n",
       "[5 rows x 33 columns]"
      ]
     },
     "execution_count": 4,
     "metadata": {},
     "output_type": "execute_result"
    }
   ],
   "source": [
    "# Et par eksempler:\n",
    "df[df[\"len\"] == 5].sample(5)"
   ]
  },
  {
   "cell_type": "markdown",
   "id": "d2640dc7-ea92-41d8-99df-7331521277cf",
   "metadata": {},
   "source": [
    "Af de ca 64.000 ord i retskrivningsordbogen er der 3759 ord (~6%) med 5 bogstaver. Lad os se på en frekvensoptælling af bogstaverne. Selv om et bogstav forekommer to gange i et ord så optælles det kun som én gang forekomnst."
   ]
  },
  {
   "cell_type": "code",
   "execution_count": 5,
   "id": "ce7bad3d-cc2d-493b-b5c9-b7efbd737433",
   "metadata": {},
   "outputs": [
    {
     "data": {
      "image/png": "[encoded data removed]",
      "text/plain": [
       "<Figure size 720x432 with 1 Axes>"
      ]
     },
     "metadata": {
      "needs_background": "light"
     },
     "output_type": "display_data"
    }
   ],
   "source": [
    "df[df[\"len\"] == 5].iloc[:, 2:].count().sort_values(ascending=False)[:25].plot.bar(\n",
    "    figsize=(10, 6),\n",
    "    title=\"Frekvensfordeling i danske ord på 5 bogstaver\",\n",
    "    ylabel=\"Antal\",\n",
    ");"
   ]
  },
  {
   "cell_type": "code",
   "execution_count": 6,
   "id": "e53a612b-1306-49d5-819a-20b44867b5c9",
   "metadata": {},
   "outputs": [
    {
     "data": {
      "text/plain": [
       "e    0.604416\n",
       "r    0.346635\n",
       "s    0.310987\n",
       "a    0.310189\n",
       "l    0.290503\n",
       "dtype: float64"
      ]
     },
     "execution_count": 6,
     "metadata": {},
     "output_type": "execute_result"
    }
   ],
   "source": [
    "# Frekvens i %\n",
    "df[df[\"len\"] == 5].iloc[:, 2:].count().sort_values(ascending=False)[:5] / df[\n",
    "    df[\"len\"] == 5\n",
    "].shape[0]"
   ]
  },
  {
   "cell_type": "markdown",
   "id": "60996edc-8806-47ee-a52d-09d03a63425a",
   "metadata": {},
   "source": [
    "Dvs. de 10 mest almindelige bogstaver er e, r, s, a, l, t, n, i, d og o. E forekommer i 60% af alle 5 bogstavsord.\n",
    "\n",
    "Lad os se på fordelingen i alle andre ord som ikke har 5 bogstaver"
   ]
  },
  {
   "cell_type": "code",
   "execution_count": 7,
   "id": "98be5303-1b80-4f8f-9d8e-fb972ce40690",
   "metadata": {},
   "outputs": [
    {
     "data": {
      "image/png": "[encoded data removed]",
      "text/plain": [
       "<Figure size 720x432 with 1 Axes>"
      ]
     },
     "metadata": {
      "needs_background": "light"
     },
     "output_type": "display_data"
    }
   ],
   "source": [
    "df[df[\"len\"] != 5].iloc[:, 2:].count().sort_values(ascending=False)[:25].plot.bar(\n",
    "    figsize=(10, 6),\n",
    "    title=\"Frekvensfordeling i danske ord som ikke er på 5 bogstaver\",\n",
    "    ylabel=\"Antal\",\n",
    ");"
   ]
  },
  {
   "cell_type": "markdown",
   "id": "0e13fb28-60ed-4ad4-971e-08c814da90d2",
   "metadata": {},
   "source": [
    "Interessant, Samme top10 men et lidt andet billede. Vi fortsætter med fordelingen med 5 bogstavsord"
   ]
  },
  {
   "cell_type": "markdown",
   "id": "4f93398f-31d7-4486-97e9-01606893cc57",
   "metadata": {},
   "source": [
    "Her er en funktion der returnerer alle 5 bogstavsord fra retskrivningsordbogen der indeholder de angivne bogstaver."
   ]
  },
  {
   "cell_type": "code",
   "execution_count": 8,
   "id": "a94c0b60-b411-4d04-ba10-49d64b6b5fb0",
   "metadata": {},
   "outputs": [],
   "source": [
    "def containsAll(str: str, set: str) -> bool:\n",
    "    return 0 not in [c in str for c in set]\n",
    "\n",
    "#def containsAny(str: str, set: str) -> bool:\n",
    "    "
   ]
  },
  {
   "cell_type": "code",
   "execution_count": 9,
   "id": "ec6fc506-a562-4351-a8d1-688f3d7cb2f9",
   "metadata": {},
   "outputs": [
    {
     "data": {
      "text/plain": [
       "[True, False, False, False, False]"
      ]
     },
     "execution_count": 9,
     "metadata": {},
     "output_type": "execute_result"
    }
   ],
   "source": [
    "[c in \"c\" for c in \"cider\"]"
   ]
  },
  {
   "cell_type": "code",
   "execution_count": 10,
   "id": "6ab61e43-0086-4e3a-9888-330197947527",
   "metadata": {},
   "outputs": [],
   "source": [
    "def check_letters(s: str, len: int = 5) -> str:\n",
    "    # print(s)\n",
    "    return list(\n",
    "        df[(df[\"len\"] == len) & (df[\"ord\"].apply(lambda x: containsAll(x, s)))][\"ord\"]\n",
    "    )"
   ]
  },
  {
   "cell_type": "code",
   "execution_count": 14,
   "id": "7cc7ef94-e51e-4c50-99c6-dcf4abf88ea7",
   "metadata": {},
   "outputs": [
    {
     "name": "stdout",
     "output_type": "stream",
     "text": [
      "['batik', 'bisat', 'habit']\n"
     ]
    }
   ],
   "source": [
    "test = \"tiba\"\n",
    "\n",
    "l = check_letters(test)\n",
    "\n",
    "print(l)"
   ]
  },
  {
   "cell_type": "code",
   "execution_count": 15,
   "id": "086dd27a-bcfe-4c3c-89f0-251d74ebf6a7",
   "metadata": {},
   "outputs": [
    {
     "data": {
      "text/plain": [
       "['habit']"
      ]
     },
     "execution_count": 15,
     "metadata": {},
     "output_type": "execute_result"
    }
   ],
   "source": [
    "top15 = list(\n",
    "    df[df[\"len\"] == 5].iloc[:, 2:].count().sort_values(ascending=False)[:15].index\n",
    ")\n",
    "\n",
    "not_test = [i for i in top15 if i not in test]\n",
    "\n",
    "[i for i in l if all([not j in i for j in not_test])]\n"
   ]
  },
  {
   "cell_type": "code",
   "execution_count": 13,
   "id": "39dcf666-8362-4769-a6fa-154f7ef3098e",
   "metadata": {},
   "outputs": [
    {
     "data": {
      "text/plain": [
       "True"
      ]
     },
     "execution_count": 13,
     "metadata": {},
     "output_type": "execute_result"
    }
   ],
   "source": [
    "all([True, True])"
   ]
  },
  {
   "cell_type": "markdown",
   "id": "58aeb653-669a-4e4d-8f60-f7b75b82df6d",
   "metadata": {},
   "source": [
    "### Find mulige ord med top 15 bogstaver"
   ]
  },
  {
   "cell_type": "code",
   "execution_count": 82,
   "id": "ce80ad4d-bf1e-44d4-9b2c-43eb5d0294fb",
   "metadata": {},
   "outputs": [],
   "source": [
    "top15 = list(\n",
    "    df[df[\"len\"] == 5].iloc[:, 2:].count().sort_values(ascending=False)[:15].index\n",
    ")"
   ]
  },
  {
   "cell_type": "code",
   "execution_count": 83,
   "id": "fcc6932a-66c4-451f-9849-25fe737c9d6d",
   "metadata": {},
   "outputs": [
    {
     "data": {
      "text/plain": [
       "['e', 'r', 's', 'a', 'l', 't', 'n', 'i', 'd', 'o', 'k', 'g', 'u', 'm', 'b']"
      ]
     },
     "execution_count": 83,
     "metadata": {},
     "output_type": "execute_result"
    }
   ],
   "source": [
    "top15"
   ]
  },
  {
   "cell_type": "code",
   "execution_count": 102,
   "id": "1ffef680-7357-4089-b380-440f48367643",
   "metadata": {},
   "outputs": [
    {
     "data": {
      "application/vnd.jupyter.widget-view+json": {
       "model_id": "f22465d0475648a7bb4f5572f8d17310",
       "version_major": 2,
       "version_minor": 0
      },
      "text/plain": [
       "  0%|          | 0/3003 [00:00<?, ?it/s]"
      ]
     },
     "metadata": {},
     "output_type": "display_data"
    },
    {
     "name": "stdout",
     "output_type": "stream",
     "text": [
      "CPU times: user 1.51 s, sys: 80.5 ms, total: 1.59 s\n",
      "Wall time: 1.59 s\n"
     ]
    }
   ],
   "source": [
    "%%time\n",
    "pairs = []\n",
    "for l in tqdm([i1 for i1 in itertools.combinations(top15, 5)]):\n",
    "    rest = list(set(top15) - set(l))\n",
    "    for m in [i2 for i2 in itertools.combinations(rest, 5)]:\n",
    "        last = list(set(rest) - set(m))\n",
    "        pairs.append(sorted([\"\".join(l), \"\".join(m), \"\".join(last)]))"
   ]
  },
  {
   "cell_type": "code",
   "execution_count": 17,
   "id": "f10d2db6-a098-432f-8835-f7094a0f44a6",
   "metadata": {},
   "outputs": [
    {
     "ename": "NameError",
     "evalue": "name 'pairs' is not defined",
     "output_type": "error",
     "traceback": [
      "\u001b[0;31m---------------------------------------------------------------------------\u001b[0m",
      "\u001b[0;31mNameError\u001b[0m                                 Traceback (most recent call last)",
      "\u001b[0;32m/var/folders/zt/txjl59j91xjg26zp3btfzgrr0000gn/T/ipykernel_32112/3404580428.py\u001b[0m in \u001b[0;36m<module>\u001b[0;34m\u001b[0m\n\u001b[0;32m----> 1\u001b[0;31m \u001b[0mpairs\u001b[0m\u001b[0;34m.\u001b[0m\u001b[0msort\u001b[0m\u001b[0;34m(\u001b[0m\u001b[0;34m)\u001b[0m\u001b[0;34m\u001b[0m\u001b[0;34m\u001b[0m\u001b[0m\n\u001b[0m\u001b[1;32m      2\u001b[0m \u001b[0mpairs\u001b[0m \u001b[0;34m=\u001b[0m \u001b[0;34m[\u001b[0m\u001b[0mi\u001b[0m \u001b[0;32mfor\u001b[0m \u001b[0mi\u001b[0m\u001b[0;34m,\u001b[0m \u001b[0m_\u001b[0m \u001b[0;32min\u001b[0m \u001b[0mitertools\u001b[0m\u001b[0;34m.\u001b[0m\u001b[0mgroupby\u001b[0m\u001b[0;34m(\u001b[0m\u001b[0mpairs\u001b[0m\u001b[0;34m)\u001b[0m\u001b[0;34m]\u001b[0m\u001b[0;34m\u001b[0m\u001b[0;34m\u001b[0m\u001b[0m\n",
      "\u001b[0;31mNameError\u001b[0m: name 'pairs' is not defined"
     ]
    }
   ],
   "source": [
    "pairs.sort()\n",
    "pairs = [i for i, _ in itertools.groupby(pairs)]"
   ]
  },
  {
   "cell_type": "code",
   "execution_count": 16,
   "id": "b9afe41d-b5b2-4532-8e5a-217e06cc7890",
   "metadata": {},
   "outputs": [],
   "source": [
    "import random\n",
    "\n",
    "\n",
    "def scrambled(orig):\n",
    "    dest = orig[:]\n",
    "    random.shuffle(dest)\n",
    "    return dest\n",
    "\n",
    "\n",
    "#pairs = scrambled(pairs)"
   ]
  },
  {
   "cell_type": "code",
   "execution_count": 110,
   "id": "1dc4ee8e-c55b-47e8-9a26-981455e11471",
   "metadata": {
    "tags": []
   },
   "outputs": [
    {
     "data": {
      "text/plain": [
       "442274"
      ]
     },
     "execution_count": 110,
     "metadata": {},
     "output_type": "execute_result"
    }
   ],
   "source": [
    "len(pairs)"
   ]
  },
  {
   "cell_type": "code",
   "execution_count": 111,
   "id": "5fc09fb7-d22c-44d1-bb90-63ad295118b4",
   "metadata": {},
   "outputs": [
    {
     "data": {
      "application/vnd.jupyter.widget-view+json": {
       "model_id": "6560bc7bff1c4e89957f6fd833c74e0a",
       "version_major": 2,
       "version_minor": 0
      },
      "text/plain": [
       "  0%|          | 0/442274 [00:00<?, ?it/s]"
      ]
     },
     "metadata": {},
     "output_type": "display_data"
    },
    {
     "name": "stdout",
     "output_type": "stream",
     "text": [
      "Ord 1: ['album'], Ord 2: ['godte'], , Ord 3: ['skrin']\n",
      "Ord 1: ['beglo', 'globe'], Ord 2: ['musik'], , Ord 3: ['randt']\n",
      "Ord 1: ['brint'], Ord 2: ['kagle', 'klage'], , Ord 3: ['modus']\n",
      "Ord 1: ['rumba', 'umbra'], Ord 2: ['longe', 'nogle'], , Ord 3: ['skidt']\n",
      "Ord 1: ['marin'], Ord 2: ['bedst'], , Ord 3: ['uklog']\n",
      "Ord 1: ['latin', 'nital'], Ord 2: ['ombud'], , Ord 3: ['skreg']\n",
      "Ord 1: ['agern', 'anger', 'angre', 'range'], Ord 2: ['isbod'], , Ord 3: ['mulkt']\n",
      "Ord 1: ['bragt'], Ord 2: ['medio'], , Ord 3: ['kluns']\n",
      "Ord 1: ['gliom'], Ord 2: ['brudt'], , Ord 3: ['knase', 'sanke']\n",
      "Ord 1: ['nobel'], Ord 2: ['sigma'], , Ord 3: ['krudt']\n",
      "Ord 1: ['kadre'], Ord 2: ['bonus'], , Ord 3: ['glimt']\n",
      "CPU times: user 54.6 s, sys: 413 ms, total: 55 s\n",
      "Wall time: 55 s\n"
     ]
    }
   ],
   "source": [
    "%%time\n",
    "\n",
    "t = 0\n",
    "\n",
    "# Print possible words\n",
    "for letters in tqdm(pairs):\n",
    "    if (\n",
    "        (ord1 := check_letters(letters[0]))\n",
    "        and (ord2 := check_letters(letters[1]))\n",
    "        and (ord3 := check_letters(letters[2]))\n",
    "    ):\n",
    "        print(f\"Ord 1: {ord1}, Ord 2: {ord2}, , Ord 3: {ord3}\")\n",
    "        t += 1\n",
    "        if t > 10:\n",
    "            break"
   ]
  },
  {
   "cell_type": "code",
   "execution_count": 144,
   "id": "7e630035-7db8-457d-98b2-b4dce4bd02de",
   "metadata": {},
   "outputs": [
    {
     "name": "stdout",
     "output_type": "stream",
     "text": [
      "yes\n"
     ]
    }
   ],
   "source": [
    "if [1]:\n",
    "    print(\"yes\")"
   ]
  },
  {
   "cell_type": "code",
   "execution_count": null,
   "id": "622adf9c-e0af-4510-98e5-e0eab782edd7",
   "metadata": {},
   "outputs": [],
   "source": []
  },
  {
   "cell_type": "code",
   "execution_count": null,
   "id": "a4f96f3e-8ea0-4366-8f82-2edd86d92843",
   "metadata": {},
   "outputs": [],
   "source": []
  },
  {
   "cell_type": "code",
   "execution_count": null,
   "id": "bdd95ef0-6a65-46af-a3c0-c27205af0a0a",
   "metadata": {},
   "outputs": [],
   "source": []
  },
  {
   "cell_type": "code",
   "execution_count": 31,
   "id": "fe885fac-5d2b-4249-94a3-da9ffce23b7e",
   "metadata": {},
   "outputs": [
    {
     "data": {
      "text/plain": [
       "528542"
      ]
     },
     "execution_count": 31,
     "metadata": {},
     "output_type": "execute_result"
    }
   ],
   "source": [
    "len(pairs)"
   ]
  },
  {
   "cell_type": "code",
   "execution_count": 18,
   "id": "a8c37b2c-c4f7-4905-976f-bc1b44c59bb7",
   "metadata": {},
   "outputs": [
    {
     "name": "stdout",
     "output_type": "stream",
     "text": [
      "('p', 'a', 'i', 'r', 's')\n",
      "('p', 'a', 'i', 'r', 's')\n",
      "('p', 'a', 'i', 's', 's')\n",
      "('p', 'a', 'r', 's', 's')\n",
      "('p', 'i', 'r', 's', 's')\n",
      "('a', 'i', 'r', 's', 's')\n"
     ]
    }
   ],
   "source": [
    "for i in itertools.combinations(\"pairss\", 5):\n",
    "    print(i)"
   ]
  },
  {
   "cell_type": "code",
   "execution_count": 84,
   "id": "c0938159-489b-4586-8e2b-3265e4bd9084",
   "metadata": {},
   "outputs": [
    {
     "name": "stdout",
     "output_type": "stream",
     "text": [
      "['e', 'r', 's', 'a', 'l', 't', 'n', 'i', 'd', 'o']\n"
     ]
    }
   ],
   "source": [
    "top10 = list(\n",
    "    df[df[\"len\"] == 5].iloc[:, 2:].count().sort_values(ascending=False)[:10].index\n",
    ")\n",
    "print(top10)"
   ]
  },
  {
   "cell_type": "code",
   "execution_count": 85,
   "id": "279f66f1-8463-4985-9e6b-9ec68c77bed6",
   "metadata": {},
   "outputs": [
    {
     "name": "stdout",
     "output_type": "stream",
     "text": [
      "ersal\n",
      "otdin\n",
      "ersat\n",
      "odinl\n",
      "ersan\n",
      "otdil\n",
      "ersai\n",
      "ersad\n",
      "ersao\n",
      "erslt\n",
      "ersln\n",
      "ersli\n",
      "otadn\n",
      "ersld\n",
      "erslo\n",
      "erstn\n",
      "oadil\n",
      "ersti\n",
      "oadnl\n",
      "erstd\n",
      "oainl\n",
      "ersto\n",
      "adinl\n",
      "Ord 1: ['roset'], Ord 2: ['iland']\n",
      "ersni\n",
      "ersnd\n",
      "ersno\n",
      "tadil\n",
      "Ord 1: ['rosen'], Ord 2: ['altid']\n",
      "ersid\n",
      "otanl\n",
      "Ord 1: ['ridse'], Ord 2: ['talon', 'tonal']\n",
      "ersio\n",
      "ersdo\n",
      "eralt\n",
      "osdin\n",
      "eraln\n",
      "erali\n",
      "erald\n",
      "ostin\n",
      "eralo\n",
      "eratn\n",
      "osdil\n",
      "Ord 1: ['trane'], Ord 2: ['solid']\n",
      "erati\n",
      "eratd\n",
      "erato\n",
      "erani\n",
      "erand\n",
      "ostil\n",
      "erano\n",
      "eraid\n",
      "ostnl\n",
      "eraio\n",
      "erado\n",
      "erltn\n",
      "erlti\n",
      "osadn\n",
      "erltd\n",
      "erlto\n",
      "erlni\n",
      "ostad\n",
      "erlnd\n",
      "erlno\n",
      "stadi\n",
      "erlid\n",
      "ostan\n",
      "erlio\n",
      "erldo\n",
      "ertni\n",
      "osadl\n",
      "Ord 1: ['inert', 'trine'], Ord 2: ['saldo']\n",
      "ertnd\n",
      "osail\n",
      "ertno\n",
      "sadil\n",
      "ertid\n",
      "ertio\n",
      "sadnl\n",
      "ertdo\n",
      "sainl\n",
      "ernid\n",
      "ostal\n",
      "Ord 1: ['diner', 'inder', 'indre', 'rinde'], Ord 2: ['salto', 'stola']\n",
      "ernio\n",
      "erndo\n",
      "stail\n",
      "erido\n",
      "esalt\n",
      "odinr\n",
      "esaln\n",
      "otdir\n",
      "esali\n",
      "esald\n",
      "otinr\n",
      "Ord 1: ['sadel', 'sadle'], Ord 2: ['intro']\n",
      "esalo\n",
      "esatn\n",
      "odirl\n",
      "esati\n",
      "odnrl\n",
      "esatd\n",
      "oinrl\n",
      "esato\n",
      "esani\n",
      "esand\n",
      "otirl\n",
      "Ord 1: ['danse', 'sande', 'sedan'], Ord 2: ['triol']\n",
      "esano\n",
      "esaid\n",
      "esaio\n",
      "esado\n",
      "esltn\n",
      "eslti\n",
      "oadnr\n",
      "Ord 1: ['liste', 'stile', 'tilse'], Ord 2: ['radon']\n",
      "esltd\n",
      "eslto\n",
      "adinr\n",
      "Ord 1: ['stole'], Ord 2: ['dinar', 'nadir']\n",
      "eslni\n",
      "otadr\n",
      "eslnd\n",
      "eslno\n",
      "tadir\n",
      "eslid\n",
      "otanr\n",
      "Ord 1: ['lidse', 'silde', 'slide'], Ord 2: ['notar', 'ornat']\n",
      "eslio\n",
      "esldo\n",
      "tainr\n",
      "estni\n",
      "estnd\n",
      "estno\n",
      "adirl\n",
      "estid\n",
      "oanrl\n",
      "estio\n",
      "estdo\n",
      "ainrl\n",
      "esnid\n",
      "otarl\n",
      "esnio\n",
      "esndo\n",
      "tairl\n",
      "Ord 1: ['sonde'], Ord 2: ['litra']\n",
      "esido\n",
      "ealtn\n",
      "osdir\n",
      "ealti\n",
      "ealtd\n",
      "osinr\n",
      "Ord 1: ['delta'], Ord 2: ['rosin']\n",
      "ealto\n",
      "ealni\n",
      "ostdr\n",
      "Ord 1: ['alien'], Ord 2: ['trods']\n",
      "ealnd\n",
      "ostir\n",
      "ealno\n",
      "ealid\n",
      "ostnr\n",
      "ealio\n",
      "ealdo\n",
      "stinr\n",
      "eatni\n",
      "eatnd\n",
      "osirl\n",
      "eatno\n",
      "eatid\n",
      "eatio\n",
      "eatdo\n",
      "eanid\n",
      "eanio\n",
      "eando\n",
      "stirl\n",
      "eaido\n",
      "eltni\n",
      "eltnd\n",
      "eltno\n",
      "sadir\n",
      "eltid\n",
      "osanr\n",
      "Ord 1: ['tilde'], Ord 2: ['sonar']\n",
      "eltio\n",
      "sadnr\n",
      "eltdo\n",
      "sainr\n",
      "elnid\n",
      "ostar\n",
      "elnio\n",
      "elndo\n",
      "stair\n",
      "Ord 1: ['loden', 'olden'], Ord 2: ['sirat', 'sitar', 'trias']\n",
      "elido\n",
      "etnid\n",
      "osarl\n",
      "etnio\n",
      "etndo\n",
      "etido\n",
      "enido\n",
      "rsalt\n",
      "rsaln\n",
      "rsali\n",
      "rsald\n",
      "rsalo\n",
      "rsatn\n",
      "odiel\n",
      "rsati\n",
      "odnel\n",
      "Ord 1: ['sirat', 'sitar', 'trias'], Ord 2: ['loden', 'olden']\n",
      "rsatd\n",
      "rsato\n",
      "rsani\n",
      "rsand\n",
      "rsano\n",
      "tdiel\n",
      "Ord 1: ['sonar'], Ord 2: ['tilde']\n",
      "rsaid\n",
      "rsaio\n",
      "rsado\n",
      "rsltn\n",
      "rslti\n",
      "rsltd\n",
      "rslto\n",
      "rslni\n",
      "rslnd\n",
      "rslno\n",
      "rslid\n",
      "rslio\n",
      "rsldo\n",
      "rstni\n",
      "rstnd\n",
      "rstno\n",
      "rstid\n",
      "oanel\n",
      "rstio\n",
      "rstdo\n",
      "ainel\n",
      "Ord 1: ['trods'], Ord 2: ['alien']\n",
      "rsnid\n",
      "rsnio\n",
      "tadel\n",
      "Ord 1: ['rosin'], Ord 2: ['delta']\n",
      "rsndo\n",
      "rsido\n",
      "raltn\n",
      "ralti\n",
      "osdne\n",
      "Ord 1: ['litra'], Ord 2: ['sonde']\n",
      "raltd\n",
      "ralto\n",
      "ralni\n",
      "ralnd\n",
      "ralno\n",
      "ralid\n",
      "ralio\n",
      "raldo\n",
      "ratni\n",
      "ratnd\n",
      "osiel\n",
      "ratno\n",
      "sdiel\n",
      "Ord 1: ['notar', 'ornat'], Ord 2: ['lidse', 'silde', 'slide']\n",
      "ratid\n",
      "ratio\n",
      "sdnel\n",
      "ratdo\n",
      "ranid\n",
      "ostel\n",
      "Ord 1: ['dinar', 'nadir'], Ord 2: ['stole']\n",
      "ranio\n",
      "rando\n",
      "stiel\n",
      "Ord 1: ['radon'], Ord 2: ['liste', 'stile', 'tilse']\n",
      "raido\n",
      "stnel\n",
      "rltni\n",
      "rltnd\n",
      "rltno\n",
      "rltid\n",
      "rltio\n",
      "sadne\n",
      "Ord 1: ['triol'], Ord 2: ['danse', 'sande', 'sedan']\n",
      "rltdo\n",
      "saine\n",
      "rlnid\n",
      "rlnio\n",
      "rlndo\n",
      "rlido\n",
      "rtnid\n",
      "osael\n",
      "rtnio\n",
      "sadel\n",
      "Ord 1: ['intro'], Ord 2: ['sadel', 'sadle']\n",
      "rtndo\n",
      "rtido\n",
      "rnido\n",
      "saltn\n",
      "odire\n",
      "salti\n",
      "saltd\n",
      "oinre\n",
      "salto\n",
      "dinre\n",
      "Ord 1: ['salto', 'stola'], Ord 2: ['diner', 'inder', 'indre', 'rinde']\n",
      "salni\n",
      "salnd\n",
      "salno\n",
      "tdire\n",
      "salid\n",
      "salio\n",
      "saldo\n",
      "tinre\n",
      "Ord 1: ['saldo'], Ord 2: ['inert', 'trine']\n",
      "satni\n",
      "odrel\n",
      "satnd\n",
      "oirel\n",
      "satno\n",
      "satid\n",
      "satio\n",
      "satdo\n",
      "sanid\n",
      "sanio\n",
      "sando\n",
      "saido\n",
      "sltni\n",
      "sltnd\n",
      "sltno\n",
      "sltid\n",
      "sltio\n",
      "sltdo\n",
      "slnid\n",
      "otare\n",
      "slnio\n",
      "slndo\n",
      "taire\n",
      "slido\n",
      "tanre\n",
      "Ord 1: ['solid'], Ord 2: ['trane']\n",
      "stnid\n",
      "stnio\n",
      "stndo\n",
      "stido\n",
      "snido\n",
      "altni\n",
      "osdre\n",
      "altnd\n",
      "altno\n",
      "sdire\n",
      "Ord 1: ['talon', 'tonal'], Ord 2: ['ridse']\n",
      "altid\n",
      "osnre\n",
      "Ord 1: ['altid'], Ord 2: ['rosen']\n",
      "altio\n",
      "altdo\n",
      "alnid\n",
      "ostre\n",
      "Ord 1: ['iland'], Ord 2: ['roset']\n",
      "alnio\n",
      "alndo\n",
      "alido\n",
      "atnid\n",
      "atnio\n",
      "sdrel\n",
      "atndo\n",
      "atido\n",
      "anido\n",
      "ltnid\n",
      "ltnio\n",
      "ltndo\n",
      "ltido\n",
      "lnido\n",
      "tnido\n",
      "CPU times: user 8.98 s, sys: 90 ms, total: 9.07 s\n",
      "Wall time: 9.07 s\n"
     ]
    }
   ],
   "source": [
    "%%time\n",
    "# Generate all possible 5 letter pairs\n",
    "pairs = []\n",
    "for l in [i for i in itertools.combinations(top10, 5)]:\n",
    "    pairs.append([\"\".join(l), \"\".join(list(set(top10) - set(l)))])\n",
    "\n",
    "# Print possible words\n",
    "for letters in pairs:\n",
    "    if ((ord1 := check_letters(letters[0])) != []) and (\n",
    "        (ord2 := check_letters(letters[1])) != []\n",
    "    ):\n",
    "        print(f\"Ord 1: {ord1}, Ord 2: {ord2}\")"
   ]
  },
  {
   "cell_type": "markdown",
   "id": "8e462396-1d08-4b06-a4b5-faead5d742d0",
   "metadata": {},
   "source": [
    "Et god bud på de to første ord kunne være \"delta\" og \"rosin\". Lad os undersøge hvor mange bogstaver vi vil finde hvis de to ord er de første to gæt. Alle lovlige kombinationer ovenfor vil give det samme resultat i ndenstående:"
   ]
  },
  {
   "cell_type": "code",
   "execution_count": 87,
   "id": "e32514a1-f372-4f43-96ad-8d61646f851d",
   "metadata": {},
   "outputs": [],
   "source": [
    "def count_overlap(s1: str, s2: str) -> int:\n",
    "    return len(set(s1) & set(s2))"
   ]
  },
  {
   "cell_type": "code",
   "execution_count": 91,
   "id": "5e21e279-0126-4626-bad6-8a0adc6db5ad",
   "metadata": {},
   "outputs": [],
   "source": [
    "ord1, ord2, ord3 = \"storm\", \"kline\", \"bagud\"\n",
    "\n",
    "df[\"gæt 1\"] = df.apply(lambda x: count_overlap(x[\"ord\"], ord1), axis=1)\n",
    "df[\"gæt 2\"] = df.apply(lambda x: count_overlap(x[\"ord\"], ord2), axis=1)\n",
    "df[\"gæt 3\"] = df.apply(lambda x: count_overlap(x[\"ord\"], ord3), axis=1)\n",
    "\n",
    "df[\"top15\"] = df[\"gæt 1\"] + df[\"gæt 2\"] + df[\"gæt 3\"]"
   ]
  },
  {
   "cell_type": "code",
   "execution_count": 92,
   "id": "a31fa6b3-8528-4a61-969c-3fd2ba7f3dd6",
   "metadata": {},
   "outputs": [
    {
     "data": {
      "image/png": "[encoded data removed]",
      "text/plain": [
       "<Figure size 720x432 with 1 Axes>"
      ]
     },
     "metadata": {
      "needs_background": "light"
     },
     "output_type": "display_data"
    }
   ],
   "source": [
    "df[df[\"len\"] == 5][\"top15\"].value_counts(normalize=True).sort_index().plot.bar(\n",
    "    figsize=(10, 6),\n",
    "    title=\"Sandsynlighed for antal rigtige bogstaver efter der to første gæt\",\n",
    "    xlabel=\"Rigtige bogstaver\",\n",
    "    ylabel=\"Sandsynlighed\",\n",
    ");"
   ]
  },
  {
   "cell_type": "code",
   "execution_count": 98,
   "id": "866610ab-bdc9-4e95-926c-c6898bc02753",
   "metadata": {},
   "outputs": [
    {
     "data": {
      "text/plain": [
       "0.933758978451716"
      ]
     },
     "execution_count": 98,
     "metadata": {},
     "output_type": "execute_result"
    }
   ],
   "source": [
    "df[df[\"len\"] == 5][\"top15\"].value_counts(normalize=True).sort_index()[2:].sum()"
   ]
  },
  {
   "cell_type": "code",
   "execution_count": 155,
   "id": "b50ee81c-b6b4-4b07-8c27-4c0915b42ec7",
   "metadata": {},
   "outputs": [
    {
     "data": {
      "text/html": [
       "<div>\n",
       "<style scoped>\n",
       "    .dataframe tbody tr th:only-of-type {\n",
       "        vertical-align: middle;\n",
       "    }\n",
       "\n",
       "    .dataframe tbody tr th {\n",
       "        vertical-align: top;\n",
       "    }\n",
       "\n",
       "    .dataframe thead th {\n",
       "        text-align: right;\n",
       "    }\n",
       "</style>\n",
       "<table border=\"1\" class=\"dataframe\">\n",
       "  <thead>\n",
       "    <tr style=\"text-align: right;\">\n",
       "      <th></th>\n",
       "      <th>ord</th>\n",
       "      <th>len</th>\n",
       "      <th>a</th>\n",
       "      <th>b</th>\n",
       "      <th>c</th>\n",
       "      <th>d</th>\n",
       "      <th>e</th>\n",
       "      <th>f</th>\n",
       "      <th>g</th>\n",
       "      <th>h</th>\n",
       "      <th>...</th>\n",
       "      <th>å</th>\n",
       "      <th>æ</th>\n",
       "      <th>é</th>\n",
       "      <th>ø</th>\n",
       "      <th>ü</th>\n",
       "      <th>sorted</th>\n",
       "      <th>gæt 1</th>\n",
       "      <th>gæt 2</th>\n",
       "      <th>gæt 3</th>\n",
       "      <th>top15</th>\n",
       "    </tr>\n",
       "  </thead>\n",
       "  <tbody>\n",
       "    <tr>\n",
       "      <th>0</th>\n",
       "      <td>A3-format</td>\n",
       "      <td>9</td>\n",
       "      <td>2.0</td>\n",
       "      <td>NaN</td>\n",
       "      <td>NaN</td>\n",
       "      <td>NaN</td>\n",
       "      <td>NaN</td>\n",
       "      <td>1.0</td>\n",
       "      <td>NaN</td>\n",
       "      <td>NaN</td>\n",
       "      <td>...</td>\n",
       "      <td>NaN</td>\n",
       "      <td>NaN</td>\n",
       "      <td>NaN</td>\n",
       "      <td>NaN</td>\n",
       "      <td>NaN</td>\n",
       "      <td>-3Aafmort</td>\n",
       "      <td>2</td>\n",
       "      <td>2</td>\n",
       "      <td>1</td>\n",
       "      <td>5</td>\n",
       "    </tr>\n",
       "    <tr>\n",
       "      <th>1</th>\n",
       "      <td>A4-format</td>\n",
       "      <td>9</td>\n",
       "      <td>2.0</td>\n",
       "      <td>NaN</td>\n",
       "      <td>NaN</td>\n",
       "      <td>NaN</td>\n",
       "      <td>NaN</td>\n",
       "      <td>1.0</td>\n",
       "      <td>NaN</td>\n",
       "      <td>NaN</td>\n",
       "      <td>...</td>\n",
       "      <td>NaN</td>\n",
       "      <td>NaN</td>\n",
       "      <td>NaN</td>\n",
       "      <td>NaN</td>\n",
       "      <td>NaN</td>\n",
       "      <td>-4Aafmort</td>\n",
       "      <td>2</td>\n",
       "      <td>2</td>\n",
       "      <td>1</td>\n",
       "      <td>5</td>\n",
       "    </tr>\n",
       "    <tr>\n",
       "      <th>2</th>\n",
       "      <td>A5-format</td>\n",
       "      <td>9</td>\n",
       "      <td>2.0</td>\n",
       "      <td>NaN</td>\n",
       "      <td>NaN</td>\n",
       "      <td>NaN</td>\n",
       "      <td>NaN</td>\n",
       "      <td>1.0</td>\n",
       "      <td>NaN</td>\n",
       "      <td>NaN</td>\n",
       "      <td>...</td>\n",
       "      <td>NaN</td>\n",
       "      <td>NaN</td>\n",
       "      <td>NaN</td>\n",
       "      <td>NaN</td>\n",
       "      <td>NaN</td>\n",
       "      <td>-5Aafmort</td>\n",
       "      <td>2</td>\n",
       "      <td>2</td>\n",
       "      <td>1</td>\n",
       "      <td>5</td>\n",
       "    </tr>\n",
       "    <tr>\n",
       "      <th>3</th>\n",
       "      <td>A-aktie</td>\n",
       "      <td>7</td>\n",
       "      <td>2.0</td>\n",
       "      <td>NaN</td>\n",
       "      <td>NaN</td>\n",
       "      <td>NaN</td>\n",
       "      <td>1.0</td>\n",
       "      <td>NaN</td>\n",
       "      <td>NaN</td>\n",
       "      <td>NaN</td>\n",
       "      <td>...</td>\n",
       "      <td>NaN</td>\n",
       "      <td>NaN</td>\n",
       "      <td>NaN</td>\n",
       "      <td>NaN</td>\n",
       "      <td>NaN</td>\n",
       "      <td>-Aaeikt</td>\n",
       "      <td>3</td>\n",
       "      <td>1</td>\n",
       "      <td>0</td>\n",
       "      <td>4</td>\n",
       "    </tr>\n",
       "    <tr>\n",
       "      <th>4</th>\n",
       "      <td>ab</td>\n",
       "      <td>2</td>\n",
       "      <td>1.0</td>\n",
       "      <td>1.0</td>\n",
       "      <td>NaN</td>\n",
       "      <td>NaN</td>\n",
       "      <td>NaN</td>\n",
       "      <td>NaN</td>\n",
       "      <td>NaN</td>\n",
       "      <td>NaN</td>\n",
       "      <td>...</td>\n",
       "      <td>NaN</td>\n",
       "      <td>NaN</td>\n",
       "      <td>NaN</td>\n",
       "      <td>NaN</td>\n",
       "      <td>NaN</td>\n",
       "      <td>ab</td>\n",
       "      <td>1</td>\n",
       "      <td>0</td>\n",
       "      <td>0</td>\n",
       "      <td>1</td>\n",
       "    </tr>\n",
       "    <tr>\n",
       "      <th>...</th>\n",
       "      <td>...</td>\n",
       "      <td>...</td>\n",
       "      <td>...</td>\n",
       "      <td>...</td>\n",
       "      <td>...</td>\n",
       "      <td>...</td>\n",
       "      <td>...</td>\n",
       "      <td>...</td>\n",
       "      <td>...</td>\n",
       "      <td>...</td>\n",
       "      <td>...</td>\n",
       "      <td>...</td>\n",
       "      <td>...</td>\n",
       "      <td>...</td>\n",
       "      <td>...</td>\n",
       "      <td>...</td>\n",
       "      <td>...</td>\n",
       "      <td>...</td>\n",
       "      <td>...</td>\n",
       "      <td>...</td>\n",
       "      <td>...</td>\n",
       "    </tr>\n",
       "    <tr>\n",
       "      <th>63855</th>\n",
       "      <td>årvågen</td>\n",
       "      <td>7</td>\n",
       "      <td>NaN</td>\n",
       "      <td>NaN</td>\n",
       "      <td>NaN</td>\n",
       "      <td>NaN</td>\n",
       "      <td>1.0</td>\n",
       "      <td>NaN</td>\n",
       "      <td>1.0</td>\n",
       "      <td>NaN</td>\n",
       "      <td>...</td>\n",
       "      <td>2.0</td>\n",
       "      <td>NaN</td>\n",
       "      <td>NaN</td>\n",
       "      <td>NaN</td>\n",
       "      <td>NaN</td>\n",
       "      <td>egnrvåå</td>\n",
       "      <td>1</td>\n",
       "      <td>2</td>\n",
       "      <td>1</td>\n",
       "      <td>4</td>\n",
       "    </tr>\n",
       "    <tr>\n",
       "      <th>63856</th>\n",
       "      <td>Årøsund</td>\n",
       "      <td>7</td>\n",
       "      <td>NaN</td>\n",
       "      <td>NaN</td>\n",
       "      <td>NaN</td>\n",
       "      <td>1.0</td>\n",
       "      <td>NaN</td>\n",
       "      <td>NaN</td>\n",
       "      <td>NaN</td>\n",
       "      <td>NaN</td>\n",
       "      <td>...</td>\n",
       "      <td>1.0</td>\n",
       "      <td>NaN</td>\n",
       "      <td>NaN</td>\n",
       "      <td>1.0</td>\n",
       "      <td>NaN</td>\n",
       "      <td>dnrsuÅø</td>\n",
       "      <td>1</td>\n",
       "      <td>3</td>\n",
       "      <td>0</td>\n",
       "      <td>4</td>\n",
       "    </tr>\n",
       "    <tr>\n",
       "      <th>63857</th>\n",
       "      <td>ås</td>\n",
       "      <td>2</td>\n",
       "      <td>NaN</td>\n",
       "      <td>NaN</td>\n",
       "      <td>NaN</td>\n",
       "      <td>NaN</td>\n",
       "      <td>NaN</td>\n",
       "      <td>NaN</td>\n",
       "      <td>NaN</td>\n",
       "      <td>NaN</td>\n",
       "      <td>...</td>\n",
       "      <td>1.0</td>\n",
       "      <td>NaN</td>\n",
       "      <td>NaN</td>\n",
       "      <td>NaN</td>\n",
       "      <td>NaN</td>\n",
       "      <td>så</td>\n",
       "      <td>0</td>\n",
       "      <td>1</td>\n",
       "      <td>0</td>\n",
       "      <td>1</td>\n",
       "    </tr>\n",
       "    <tr>\n",
       "      <th>63858</th>\n",
       "      <td>åsted</td>\n",
       "      <td>5</td>\n",
       "      <td>NaN</td>\n",
       "      <td>NaN</td>\n",
       "      <td>NaN</td>\n",
       "      <td>1.0</td>\n",
       "      <td>1.0</td>\n",
       "      <td>NaN</td>\n",
       "      <td>NaN</td>\n",
       "      <td>NaN</td>\n",
       "      <td>...</td>\n",
       "      <td>1.0</td>\n",
       "      <td>NaN</td>\n",
       "      <td>NaN</td>\n",
       "      <td>NaN</td>\n",
       "      <td>NaN</td>\n",
       "      <td>destå</td>\n",
       "      <td>3</td>\n",
       "      <td>1</td>\n",
       "      <td>0</td>\n",
       "      <td>4</td>\n",
       "    </tr>\n",
       "    <tr>\n",
       "      <th>63859</th>\n",
       "      <td>åsyn</td>\n",
       "      <td>4</td>\n",
       "      <td>NaN</td>\n",
       "      <td>NaN</td>\n",
       "      <td>NaN</td>\n",
       "      <td>NaN</td>\n",
       "      <td>NaN</td>\n",
       "      <td>NaN</td>\n",
       "      <td>NaN</td>\n",
       "      <td>NaN</td>\n",
       "      <td>...</td>\n",
       "      <td>1.0</td>\n",
       "      <td>NaN</td>\n",
       "      <td>NaN</td>\n",
       "      <td>NaN</td>\n",
       "      <td>NaN</td>\n",
       "      <td>nsyå</td>\n",
       "      <td>0</td>\n",
       "      <td>2</td>\n",
       "      <td>1</td>\n",
       "      <td>3</td>\n",
       "    </tr>\n",
       "  </tbody>\n",
       "</table>\n",
       "<p>63860 rows × 38 columns</p>\n",
       "</div>"
      ],
      "text/plain": [
       "             ord  len    a    b   c    d    e    f    g   h  ...    å   æ   é  \\\n",
       "0      A3-format    9  2.0  NaN NaN  NaN  NaN  1.0  NaN NaN  ...  NaN NaN NaN   \n",
       "1      A4-format    9  2.0  NaN NaN  NaN  NaN  1.0  NaN NaN  ...  NaN NaN NaN   \n",
       "2      A5-format    9  2.0  NaN NaN  NaN  NaN  1.0  NaN NaN  ...  NaN NaN NaN   \n",
       "3        A-aktie    7  2.0  NaN NaN  NaN  1.0  NaN  NaN NaN  ...  NaN NaN NaN   \n",
       "4             ab    2  1.0  1.0 NaN  NaN  NaN  NaN  NaN NaN  ...  NaN NaN NaN   \n",
       "...          ...  ...  ...  ...  ..  ...  ...  ...  ...  ..  ...  ...  ..  ..   \n",
       "63855    årvågen    7  NaN  NaN NaN  NaN  1.0  NaN  1.0 NaN  ...  2.0 NaN NaN   \n",
       "63856    Årøsund    7  NaN  NaN NaN  1.0  NaN  NaN  NaN NaN  ...  1.0 NaN NaN   \n",
       "63857         ås    2  NaN  NaN NaN  NaN  NaN  NaN  NaN NaN  ...  1.0 NaN NaN   \n",
       "63858      åsted    5  NaN  NaN NaN  1.0  1.0  NaN  NaN NaN  ...  1.0 NaN NaN   \n",
       "63859       åsyn    4  NaN  NaN NaN  NaN  NaN  NaN  NaN NaN  ...  1.0 NaN NaN   \n",
       "\n",
       "         ø   ü     sorted  gæt 1  gæt 2  gæt 3  top15  \n",
       "0      NaN NaN  -3Aafmort      2      2      1      5  \n",
       "1      NaN NaN  -4Aafmort      2      2      1      5  \n",
       "2      NaN NaN  -5Aafmort      2      2      1      5  \n",
       "3      NaN NaN    -Aaeikt      3      1      0      4  \n",
       "4      NaN NaN         ab      1      0      0      1  \n",
       "...    ...  ..        ...    ...    ...    ...    ...  \n",
       "63855  NaN NaN    egnrvåå      1      2      1      4  \n",
       "63856  1.0 NaN    dnrsuÅø      1      3      0      4  \n",
       "63857  NaN NaN         så      0      1      0      1  \n",
       "63858  NaN NaN      destå      3      1      0      4  \n",
       "63859  NaN NaN       nsyå      0      2      1      3  \n",
       "\n",
       "[63860 rows x 38 columns]"
      ]
     },
     "execution_count": 155,
     "metadata": {},
     "output_type": "execute_result"
    }
   ],
   "source": [
    "df"
   ]
  },
  {
   "cell_type": "markdown",
   "id": "95295b6f-78a5-4f16-a3b3-add408113958",
   "metadata": {},
   "source": [
    "### Konklusion\n",
    "Hvis de to første gæt er \"delta\" og \"rosin\" vil vi med ~72% sandsynlighed have 3 eller flere rigtige bogstaver"
   ]
  },
  {
   "cell_type": "code",
   "execution_count": null,
   "id": "3159d0ec-7b7a-4f2e-927c-723c3a993ddf",
   "metadata": {},
   "outputs": [],
   "source": []
  }
 ],
 "metadata": {
  "kernelspec": {
   "display_name": "Python [conda env:myenv] *",
   "language": "python",
   "name": "conda-env-myenv-py"
  },
  "language_info": {
   "codemirror_mode": {
    "name": "ipython",
    "version": 3
   },
   "file_extension": ".py",
   "mimetype": "text/x-python",
   "name": "python",
   "nbconvert_exporter": "python",
   "pygments_lexer": "ipython3",
   "version": "3.9.7"
  }
 },
 "nbformat": 4,
 "nbformat_minor": 5
}
