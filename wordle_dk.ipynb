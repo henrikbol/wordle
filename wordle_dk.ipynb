{
 "cells": [
  {
   "cell_type": "markdown",
   "id": "69fd8f34-26ea-44ee-a870-a6cde30b7466",
   "metadata": {},
   "source": [
    "# Wørdle på dansk\n",
    "\n",
    "En undersøgelse af hvilke bogstaver der er mest forekomne i det danske sprog - og ikke mindst i 5 bogstavs ord.\n",
    "Ligeledes gives et bud på de to første optimale gæt, samt sandsynlighede for antal rigtige bogstaver efter at disse to gæt er brugt.\n"
   ]
  },
  {
   "cell_type": "code",
   "execution_count": 1,
   "id": "4291e7c8-c643-48a3-a27e-fab421ed8d81",
   "metadata": {},
   "outputs": [],
   "source": [
    "from collections import Counter, OrderedDict\n",
    "\n",
    "import pandas as pd"
   ]
  },
  {
   "cell_type": "markdown",
   "id": "274d7d10-1132-44f1-ae5b-f7b0e129a871",
   "metadata": {},
   "source": [
    "### Henter alle danske ord fra retskrivningsordbogen\n",
    "Data er hentet fra Application Storage `data_meta` fra https://roplus.dk/#ordbog/ og skal således forbehandles"
   ]
  },
  {
   "cell_type": "code",
   "execution_count": 2,
   "id": "a2ed3811-8ff4-4f8e-91b2-1bfae8e27bae",
   "metadata": {},
   "outputs": [],
   "source": [
    "with open(\"./data/ord.txt\") as f:\n",
    "    lines = f.readlines()\n",
    "lines = lines[0].split(\"\\\\n\")[4:]"
   ]
  },
  {
   "cell_type": "code",
   "execution_count": 3,
   "id": "1e33a182-1d1e-4ff0-9c61-350ae84a0944",
   "metadata": {},
   "outputs": [
    {
     "name": "stdout",
     "output_type": "stream",
     "text": [
      "Antal ord i retskrivningsordbogen 63,860\n"
     ]
    }
   ],
   "source": [
    "ord = [l.split(\"\\\\\")[0].lstrip(\"0123456789-\") for l in lines]\n",
    "ord = list(OrderedDict.fromkeys(ord))\n",
    "print(f\"Antal ord i retskrivningsordbogen {len(ord):,}\")"
   ]
  },
  {
   "cell_type": "markdown",
   "id": "00cf3929-79e6-4ece-bf20-4c5684573af3",
   "metadata": {},
   "source": [
    "### Tæl bogstaver\n",
    "I alt 63860 ord i ordbogen. Lad os tælle nogle bogstaver. Alle ord lægges i en DataFrame så de er nemmere at håndtere og optælle. Der oprettes en kolonne for hvert bogstav og der optælles hvor mange gange dette bogstav forekommer i ordet."
   ]
  },
  {
   "cell_type": "code",
   "execution_count": 4,
   "id": "20ad2ebd-5160-4fd0-a83e-a02fb23a46cc",
   "metadata": {},
   "outputs": [],
   "source": [
    "def letter_counts(s: str) -> dict:\n",
    "    counts = Counter([l for l in s.lower()])\n",
    "    return counts"
   ]
  },
  {
   "cell_type": "code",
   "execution_count": 5,
   "id": "5eb3341e-162f-4ca3-8369-04be5390b247",
   "metadata": {},
   "outputs": [
    {
     "name": "stdout",
     "output_type": "stream",
     "text": [
      "CPU times: user 5.71 s, sys: 150 ms, total: 5.86 s\n",
      "Wall time: 5.85 s\n"
     ]
    }
   ],
   "source": [
    "%%time\n",
    "df = pd.DataFrame(ord, columns=[\"ord\"])\n",
    "\n",
    "# Længde af ord samt optælling af bogstaver\n",
    "df[\"len\"] = df[\"ord\"].str.len()\n",
    "df[\"count\"] = df[\"ord\"].apply(letter_counts)\n",
    "\n",
    "# Split dict til kolonner\n",
    "df = pd.concat([df.drop([\"count\"], axis=1), df[\"count\"].apply(pd.Series)], axis=1)\n",
    "\n",
    "# Sorter bogstavskolonnerne\n",
    "df = df[[\"ord\", \"len\"] + [i for i in df.columns[2:].sort_values() if i.isalpha()]]"
   ]
  },
  {
   "cell_type": "code",
   "execution_count": 6,
   "id": "09d71fd8-28a2-4df0-8d16-3ff027a98599",
   "metadata": {},
   "outputs": [
    {
     "data": {
      "text/html": [
       "<div>\n",
       "<style scoped>\n",
       "    .dataframe tbody tr th:only-of-type {\n",
       "        vertical-align: middle;\n",
       "    }\n",
       "\n",
       "    .dataframe tbody tr th {\n",
       "        vertical-align: top;\n",
       "    }\n",
       "\n",
       "    .dataframe thead th {\n",
       "        text-align: right;\n",
       "    }\n",
       "</style>\n",
       "<table border=\"1\" class=\"dataframe\">\n",
       "  <thead>\n",
       "    <tr style=\"text-align: right;\">\n",
       "      <th></th>\n",
       "      <th>ord</th>\n",
       "      <th>len</th>\n",
       "      <th>a</th>\n",
       "      <th>b</th>\n",
       "      <th>c</th>\n",
       "      <th>d</th>\n",
       "      <th>e</th>\n",
       "      <th>f</th>\n",
       "      <th>g</th>\n",
       "      <th>h</th>\n",
       "      <th>...</th>\n",
       "      <th>v</th>\n",
       "      <th>w</th>\n",
       "      <th>x</th>\n",
       "      <th>y</th>\n",
       "      <th>z</th>\n",
       "      <th>å</th>\n",
       "      <th>æ</th>\n",
       "      <th>é</th>\n",
       "      <th>ø</th>\n",
       "      <th>ü</th>\n",
       "    </tr>\n",
       "  </thead>\n",
       "  <tbody>\n",
       "    <tr>\n",
       "      <th>23941</th>\n",
       "      <td>indføle</td>\n",
       "      <td>7</td>\n",
       "      <td>NaN</td>\n",
       "      <td>NaN</td>\n",
       "      <td>NaN</td>\n",
       "      <td>1.0</td>\n",
       "      <td>1.0</td>\n",
       "      <td>1.0</td>\n",
       "      <td>NaN</td>\n",
       "      <td>NaN</td>\n",
       "      <td>...</td>\n",
       "      <td>NaN</td>\n",
       "      <td>NaN</td>\n",
       "      <td>NaN</td>\n",
       "      <td>NaN</td>\n",
       "      <td>NaN</td>\n",
       "      <td>NaN</td>\n",
       "      <td>NaN</td>\n",
       "      <td>NaN</td>\n",
       "      <td>1.0</td>\n",
       "      <td>NaN</td>\n",
       "    </tr>\n",
       "    <tr>\n",
       "      <th>28072</th>\n",
       "      <td>kommissarius</td>\n",
       "      <td>12</td>\n",
       "      <td>1.0</td>\n",
       "      <td>NaN</td>\n",
       "      <td>NaN</td>\n",
       "      <td>NaN</td>\n",
       "      <td>NaN</td>\n",
       "      <td>NaN</td>\n",
       "      <td>NaN</td>\n",
       "      <td>NaN</td>\n",
       "      <td>...</td>\n",
       "      <td>NaN</td>\n",
       "      <td>NaN</td>\n",
       "      <td>NaN</td>\n",
       "      <td>NaN</td>\n",
       "      <td>NaN</td>\n",
       "      <td>NaN</td>\n",
       "      <td>NaN</td>\n",
       "      <td>NaN</td>\n",
       "      <td>NaN</td>\n",
       "      <td>NaN</td>\n",
       "    </tr>\n",
       "    <tr>\n",
       "      <th>44213</th>\n",
       "      <td>rensning</td>\n",
       "      <td>8</td>\n",
       "      <td>NaN</td>\n",
       "      <td>NaN</td>\n",
       "      <td>NaN</td>\n",
       "      <td>NaN</td>\n",
       "      <td>1.0</td>\n",
       "      <td>NaN</td>\n",
       "      <td>1.0</td>\n",
       "      <td>NaN</td>\n",
       "      <td>...</td>\n",
       "      <td>NaN</td>\n",
       "      <td>NaN</td>\n",
       "      <td>NaN</td>\n",
       "      <td>NaN</td>\n",
       "      <td>NaN</td>\n",
       "      <td>NaN</td>\n",
       "      <td>NaN</td>\n",
       "      <td>NaN</td>\n",
       "      <td>NaN</td>\n",
       "      <td>NaN</td>\n",
       "    </tr>\n",
       "    <tr>\n",
       "      <th>55978</th>\n",
       "      <td>tjene</td>\n",
       "      <td>5</td>\n",
       "      <td>NaN</td>\n",
       "      <td>NaN</td>\n",
       "      <td>NaN</td>\n",
       "      <td>NaN</td>\n",
       "      <td>2.0</td>\n",
       "      <td>NaN</td>\n",
       "      <td>NaN</td>\n",
       "      <td>NaN</td>\n",
       "      <td>...</td>\n",
       "      <td>NaN</td>\n",
       "      <td>NaN</td>\n",
       "      <td>NaN</td>\n",
       "      <td>NaN</td>\n",
       "      <td>NaN</td>\n",
       "      <td>NaN</td>\n",
       "      <td>NaN</td>\n",
       "      <td>NaN</td>\n",
       "      <td>NaN</td>\n",
       "      <td>NaN</td>\n",
       "    </tr>\n",
       "    <tr>\n",
       "      <th>59716</th>\n",
       "      <td>unddragelse</td>\n",
       "      <td>11</td>\n",
       "      <td>1.0</td>\n",
       "      <td>NaN</td>\n",
       "      <td>NaN</td>\n",
       "      <td>2.0</td>\n",
       "      <td>2.0</td>\n",
       "      <td>NaN</td>\n",
       "      <td>1.0</td>\n",
       "      <td>NaN</td>\n",
       "      <td>...</td>\n",
       "      <td>NaN</td>\n",
       "      <td>NaN</td>\n",
       "      <td>NaN</td>\n",
       "      <td>NaN</td>\n",
       "      <td>NaN</td>\n",
       "      <td>NaN</td>\n",
       "      <td>NaN</td>\n",
       "      <td>NaN</td>\n",
       "      <td>NaN</td>\n",
       "      <td>NaN</td>\n",
       "    </tr>\n",
       "  </tbody>\n",
       "</table>\n",
       "<p>5 rows × 33 columns</p>\n",
       "</div>"
      ],
      "text/plain": [
       "                ord  len    a   b   c    d    e    f    g   h  ...   v   w  \\\n",
       "23941       indføle    7  NaN NaN NaN  1.0  1.0  1.0  NaN NaN  ... NaN NaN   \n",
       "28072  kommissarius   12  1.0 NaN NaN  NaN  NaN  NaN  NaN NaN  ... NaN NaN   \n",
       "44213      rensning    8  NaN NaN NaN  NaN  1.0  NaN  1.0 NaN  ... NaN NaN   \n",
       "55978         tjene    5  NaN NaN NaN  NaN  2.0  NaN  NaN NaN  ... NaN NaN   \n",
       "59716   unddragelse   11  1.0 NaN NaN  2.0  2.0  NaN  1.0 NaN  ... NaN NaN   \n",
       "\n",
       "        x   y   z   å   æ   é    ø   ü  \n",
       "23941 NaN NaN NaN NaN NaN NaN  1.0 NaN  \n",
       "28072 NaN NaN NaN NaN NaN NaN  NaN NaN  \n",
       "44213 NaN NaN NaN NaN NaN NaN  NaN NaN  \n",
       "55978 NaN NaN NaN NaN NaN NaN  NaN NaN  \n",
       "59716 NaN NaN NaN NaN NaN NaN  NaN NaN  \n",
       "\n",
       "[5 rows x 33 columns]"
      ]
     },
     "execution_count": 6,
     "metadata": {},
     "output_type": "execute_result"
    }
   ],
   "source": [
    "df.sample(5)"
   ]
  },
  {
   "cell_type": "code",
   "execution_count": 7,
   "id": "a4861b19-23f3-42d5-acc3-58c901e3275d",
   "metadata": {},
   "outputs": [
    {
     "data": {
      "text/plain": [
       "count    63860.000000\n",
       "mean         9.160883\n",
       "std          3.158232\n",
       "min          1.000000\n",
       "25%          7.000000\n",
       "50%          9.000000\n",
       "75%         11.000000\n",
       "max         30.000000\n",
       "Name: len, dtype: float64"
      ]
     },
     "execution_count": 7,
     "metadata": {},
     "output_type": "execute_result"
    }
   ],
   "source": [
    "# Beskrivelse af længden af ord på dansk\n",
    "df[\"len\"].describe()"
   ]
  },
  {
   "cell_type": "markdown",
   "id": "40105a6b-c445-46b5-a187-18eb1d80e83d",
   "metadata": {},
   "source": [
    "Et gennemsnitligt dansk ord i retskrivbningsordbogen er består af 9 bogstaver"
   ]
  },
  {
   "cell_type": "code",
   "execution_count": 8,
   "id": "58bfa484-89b5-4af7-9d6b-ec4713cc0499",
   "metadata": {},
   "outputs": [
    {
     "data": {
      "text/html": [
       "<div>\n",
       "<style scoped>\n",
       "    .dataframe tbody tr th:only-of-type {\n",
       "        vertical-align: middle;\n",
       "    }\n",
       "\n",
       "    .dataframe tbody tr th {\n",
       "        vertical-align: top;\n",
       "    }\n",
       "\n",
       "    .dataframe thead th {\n",
       "        text-align: right;\n",
       "    }\n",
       "</style>\n",
       "<table border=\"1\" class=\"dataframe\">\n",
       "  <thead>\n",
       "    <tr style=\"text-align: right;\">\n",
       "      <th></th>\n",
       "      <th>ord</th>\n",
       "      <th>len</th>\n",
       "      <th>a</th>\n",
       "      <th>b</th>\n",
       "      <th>c</th>\n",
       "      <th>d</th>\n",
       "      <th>e</th>\n",
       "      <th>f</th>\n",
       "      <th>g</th>\n",
       "      <th>h</th>\n",
       "      <th>...</th>\n",
       "      <th>v</th>\n",
       "      <th>w</th>\n",
       "      <th>x</th>\n",
       "      <th>y</th>\n",
       "      <th>z</th>\n",
       "      <th>å</th>\n",
       "      <th>æ</th>\n",
       "      <th>é</th>\n",
       "      <th>ø</th>\n",
       "      <th>ü</th>\n",
       "    </tr>\n",
       "  </thead>\n",
       "  <tbody>\n",
       "    <tr>\n",
       "      <th>50164</th>\n",
       "      <td>social- og sundhedsforvaltning</td>\n",
       "      <td>30</td>\n",
       "      <td>2.0</td>\n",
       "      <td>NaN</td>\n",
       "      <td>1.0</td>\n",
       "      <td>2.0</td>\n",
       "      <td>1.0</td>\n",
       "      <td>1.0</td>\n",
       "      <td>2.0</td>\n",
       "      <td>1.0</td>\n",
       "      <td>...</td>\n",
       "      <td>1.0</td>\n",
       "      <td>NaN</td>\n",
       "      <td>NaN</td>\n",
       "      <td>NaN</td>\n",
       "      <td>NaN</td>\n",
       "      <td>NaN</td>\n",
       "      <td>NaN</td>\n",
       "      <td>NaN</td>\n",
       "      <td>NaN</td>\n",
       "      <td>NaN</td>\n",
       "    </tr>\n",
       "    <tr>\n",
       "      <th>45840</th>\n",
       "      <td>Saint Vincent og Grenadinerne</td>\n",
       "      <td>29</td>\n",
       "      <td>2.0</td>\n",
       "      <td>NaN</td>\n",
       "      <td>1.0</td>\n",
       "      <td>1.0</td>\n",
       "      <td>4.0</td>\n",
       "      <td>NaN</td>\n",
       "      <td>2.0</td>\n",
       "      <td>NaN</td>\n",
       "      <td>...</td>\n",
       "      <td>1.0</td>\n",
       "      <td>NaN</td>\n",
       "      <td>NaN</td>\n",
       "      <td>NaN</td>\n",
       "      <td>NaN</td>\n",
       "      <td>NaN</td>\n",
       "      <td>NaN</td>\n",
       "      <td>NaN</td>\n",
       "      <td>NaN</td>\n",
       "      <td>NaN</td>\n",
       "    </tr>\n",
       "    <tr>\n",
       "      <th>50163</th>\n",
       "      <td>social- og sundhedsassistent</td>\n",
       "      <td>28</td>\n",
       "      <td>2.0</td>\n",
       "      <td>NaN</td>\n",
       "      <td>1.0</td>\n",
       "      <td>2.0</td>\n",
       "      <td>2.0</td>\n",
       "      <td>NaN</td>\n",
       "      <td>1.0</td>\n",
       "      <td>1.0</td>\n",
       "      <td>...</td>\n",
       "      <td>NaN</td>\n",
       "      <td>NaN</td>\n",
       "      <td>NaN</td>\n",
       "      <td>NaN</td>\n",
       "      <td>NaN</td>\n",
       "      <td>NaN</td>\n",
       "      <td>NaN</td>\n",
       "      <td>NaN</td>\n",
       "      <td>NaN</td>\n",
       "      <td>NaN</td>\n",
       "    </tr>\n",
       "    <tr>\n",
       "      <th>59993</th>\n",
       "      <td>undervisningsdifferentiering</td>\n",
       "      <td>28</td>\n",
       "      <td>NaN</td>\n",
       "      <td>NaN</td>\n",
       "      <td>NaN</td>\n",
       "      <td>2.0</td>\n",
       "      <td>4.0</td>\n",
       "      <td>2.0</td>\n",
       "      <td>2.0</td>\n",
       "      <td>NaN</td>\n",
       "      <td>...</td>\n",
       "      <td>1.0</td>\n",
       "      <td>NaN</td>\n",
       "      <td>NaN</td>\n",
       "      <td>NaN</td>\n",
       "      <td>NaN</td>\n",
       "      <td>NaN</td>\n",
       "      <td>NaN</td>\n",
       "      <td>NaN</td>\n",
       "      <td>NaN</td>\n",
       "      <td>NaN</td>\n",
       "    </tr>\n",
       "    <tr>\n",
       "      <th>17484</th>\n",
       "      <td>førstegenerationsindvandrer</td>\n",
       "      <td>27</td>\n",
       "      <td>2.0</td>\n",
       "      <td>NaN</td>\n",
       "      <td>NaN</td>\n",
       "      <td>2.0</td>\n",
       "      <td>4.0</td>\n",
       "      <td>1.0</td>\n",
       "      <td>1.0</td>\n",
       "      <td>NaN</td>\n",
       "      <td>...</td>\n",
       "      <td>1.0</td>\n",
       "      <td>NaN</td>\n",
       "      <td>NaN</td>\n",
       "      <td>NaN</td>\n",
       "      <td>NaN</td>\n",
       "      <td>NaN</td>\n",
       "      <td>NaN</td>\n",
       "      <td>NaN</td>\n",
       "      <td>1.0</td>\n",
       "      <td>NaN</td>\n",
       "    </tr>\n",
       "  </tbody>\n",
       "</table>\n",
       "<p>5 rows × 33 columns</p>\n",
       "</div>"
      ],
      "text/plain": [
       "                                  ord  len    a   b    c    d    e    f    g  \\\n",
       "50164  social- og sundhedsforvaltning   30  2.0 NaN  1.0  2.0  1.0  1.0  2.0   \n",
       "45840   Saint Vincent og Grenadinerne   29  2.0 NaN  1.0  1.0  4.0  NaN  2.0   \n",
       "50163    social- og sundhedsassistent   28  2.0 NaN  1.0  2.0  2.0  NaN  1.0   \n",
       "59993    undervisningsdifferentiering   28  NaN NaN  NaN  2.0  4.0  2.0  2.0   \n",
       "17484     førstegenerationsindvandrer   27  2.0 NaN  NaN  2.0  4.0  1.0  1.0   \n",
       "\n",
       "         h  ...    v   w   x   y   z   å   æ   é    ø   ü  \n",
       "50164  1.0  ...  1.0 NaN NaN NaN NaN NaN NaN NaN  NaN NaN  \n",
       "45840  NaN  ...  1.0 NaN NaN NaN NaN NaN NaN NaN  NaN NaN  \n",
       "50163  1.0  ...  NaN NaN NaN NaN NaN NaN NaN NaN  NaN NaN  \n",
       "59993  NaN  ...  1.0 NaN NaN NaN NaN NaN NaN NaN  NaN NaN  \n",
       "17484  NaN  ...  1.0 NaN NaN NaN NaN NaN NaN NaN  1.0 NaN  \n",
       "\n",
       "[5 rows x 33 columns]"
      ]
     },
     "execution_count": 8,
     "metadata": {},
     "output_type": "execute_result"
    }
   ],
   "source": [
    "# De fem længste ord i retskrivningsordbogen\n",
    "df.loc[df[\"len\"].nlargest(5).index, :]"
   ]
  },
  {
   "cell_type": "markdown",
   "id": "ff68b38f-4aec-4d29-8619-5f72cea772ba",
   "metadata": {},
   "source": [
    "### 5 bogstavs ord\n",
    "Lad os se på bogstavsfordelingen i 5 bogstavs ord"
   ]
  },
  {
   "cell_type": "code",
   "execution_count": 9,
   "id": "c68514cb-9571-4eef-9e38-1970531e9e27",
   "metadata": {},
   "outputs": [
    {
     "name": "stdout",
     "output_type": "stream",
     "text": [
      "Antal ord på 5 bogstaver 3,759\n"
     ]
    }
   ],
   "source": [
    "print(f'Antal ord på 5 bogstaver {df[df[\"len\"] == 5].shape[0]:,}')"
   ]
  },
  {
   "cell_type": "code",
   "execution_count": 10,
   "id": "a0b18f6f-ad0d-40f8-94ce-61c012f4f600",
   "metadata": {},
   "outputs": [
    {
     "data": {
      "text/html": [
       "<div>\n",
       "<style scoped>\n",
       "    .dataframe tbody tr th:only-of-type {\n",
       "        vertical-align: middle;\n",
       "    }\n",
       "\n",
       "    .dataframe tbody tr th {\n",
       "        vertical-align: top;\n",
       "    }\n",
       "\n",
       "    .dataframe thead th {\n",
       "        text-align: right;\n",
       "    }\n",
       "</style>\n",
       "<table border=\"1\" class=\"dataframe\">\n",
       "  <thead>\n",
       "    <tr style=\"text-align: right;\">\n",
       "      <th></th>\n",
       "      <th>ord</th>\n",
       "      <th>len</th>\n",
       "      <th>a</th>\n",
       "      <th>b</th>\n",
       "      <th>c</th>\n",
       "      <th>d</th>\n",
       "      <th>e</th>\n",
       "      <th>f</th>\n",
       "      <th>g</th>\n",
       "      <th>h</th>\n",
       "      <th>...</th>\n",
       "      <th>v</th>\n",
       "      <th>w</th>\n",
       "      <th>x</th>\n",
       "      <th>y</th>\n",
       "      <th>z</th>\n",
       "      <th>å</th>\n",
       "      <th>æ</th>\n",
       "      <th>é</th>\n",
       "      <th>ø</th>\n",
       "      <th>ü</th>\n",
       "    </tr>\n",
       "  </thead>\n",
       "  <tbody>\n",
       "    <tr>\n",
       "      <th>32825</th>\n",
       "      <td>læske</td>\n",
       "      <td>5</td>\n",
       "      <td>NaN</td>\n",
       "      <td>NaN</td>\n",
       "      <td>NaN</td>\n",
       "      <td>NaN</td>\n",
       "      <td>1.0</td>\n",
       "      <td>NaN</td>\n",
       "      <td>NaN</td>\n",
       "      <td>NaN</td>\n",
       "      <td>...</td>\n",
       "      <td>NaN</td>\n",
       "      <td>NaN</td>\n",
       "      <td>NaN</td>\n",
       "      <td>NaN</td>\n",
       "      <td>NaN</td>\n",
       "      <td>NaN</td>\n",
       "      <td>1.0</td>\n",
       "      <td>NaN</td>\n",
       "      <td>NaN</td>\n",
       "      <td>NaN</td>\n",
       "    </tr>\n",
       "    <tr>\n",
       "      <th>39784</th>\n",
       "      <td>palme</td>\n",
       "      <td>5</td>\n",
       "      <td>1.0</td>\n",
       "      <td>NaN</td>\n",
       "      <td>NaN</td>\n",
       "      <td>NaN</td>\n",
       "      <td>1.0</td>\n",
       "      <td>NaN</td>\n",
       "      <td>NaN</td>\n",
       "      <td>NaN</td>\n",
       "      <td>...</td>\n",
       "      <td>NaN</td>\n",
       "      <td>NaN</td>\n",
       "      <td>NaN</td>\n",
       "      <td>NaN</td>\n",
       "      <td>NaN</td>\n",
       "      <td>NaN</td>\n",
       "      <td>NaN</td>\n",
       "      <td>NaN</td>\n",
       "      <td>NaN</td>\n",
       "      <td>NaN</td>\n",
       "    </tr>\n",
       "    <tr>\n",
       "      <th>21067</th>\n",
       "      <td>hente</td>\n",
       "      <td>5</td>\n",
       "      <td>NaN</td>\n",
       "      <td>NaN</td>\n",
       "      <td>NaN</td>\n",
       "      <td>NaN</td>\n",
       "      <td>2.0</td>\n",
       "      <td>NaN</td>\n",
       "      <td>NaN</td>\n",
       "      <td>1.0</td>\n",
       "      <td>...</td>\n",
       "      <td>NaN</td>\n",
       "      <td>NaN</td>\n",
       "      <td>NaN</td>\n",
       "      <td>NaN</td>\n",
       "      <td>NaN</td>\n",
       "      <td>NaN</td>\n",
       "      <td>NaN</td>\n",
       "      <td>NaN</td>\n",
       "      <td>NaN</td>\n",
       "      <td>NaN</td>\n",
       "    </tr>\n",
       "    <tr>\n",
       "      <th>36942</th>\n",
       "      <td>nogle</td>\n",
       "      <td>5</td>\n",
       "      <td>NaN</td>\n",
       "      <td>NaN</td>\n",
       "      <td>NaN</td>\n",
       "      <td>NaN</td>\n",
       "      <td>1.0</td>\n",
       "      <td>NaN</td>\n",
       "      <td>1.0</td>\n",
       "      <td>NaN</td>\n",
       "      <td>...</td>\n",
       "      <td>NaN</td>\n",
       "      <td>NaN</td>\n",
       "      <td>NaN</td>\n",
       "      <td>NaN</td>\n",
       "      <td>NaN</td>\n",
       "      <td>NaN</td>\n",
       "      <td>NaN</td>\n",
       "      <td>NaN</td>\n",
       "      <td>NaN</td>\n",
       "      <td>NaN</td>\n",
       "    </tr>\n",
       "    <tr>\n",
       "      <th>44780</th>\n",
       "      <td>rimte</td>\n",
       "      <td>5</td>\n",
       "      <td>NaN</td>\n",
       "      <td>NaN</td>\n",
       "      <td>NaN</td>\n",
       "      <td>NaN</td>\n",
       "      <td>1.0</td>\n",
       "      <td>NaN</td>\n",
       "      <td>NaN</td>\n",
       "      <td>NaN</td>\n",
       "      <td>...</td>\n",
       "      <td>NaN</td>\n",
       "      <td>NaN</td>\n",
       "      <td>NaN</td>\n",
       "      <td>NaN</td>\n",
       "      <td>NaN</td>\n",
       "      <td>NaN</td>\n",
       "      <td>NaN</td>\n",
       "      <td>NaN</td>\n",
       "      <td>NaN</td>\n",
       "      <td>NaN</td>\n",
       "    </tr>\n",
       "  </tbody>\n",
       "</table>\n",
       "<p>5 rows × 33 columns</p>\n",
       "</div>"
      ],
      "text/plain": [
       "         ord  len    a   b   c   d    e   f    g    h  ...   v   w   x   y  \\\n",
       "32825  læske    5  NaN NaN NaN NaN  1.0 NaN  NaN  NaN  ... NaN NaN NaN NaN   \n",
       "39784  palme    5  1.0 NaN NaN NaN  1.0 NaN  NaN  NaN  ... NaN NaN NaN NaN   \n",
       "21067  hente    5  NaN NaN NaN NaN  2.0 NaN  NaN  1.0  ... NaN NaN NaN NaN   \n",
       "36942  nogle    5  NaN NaN NaN NaN  1.0 NaN  1.0  NaN  ... NaN NaN NaN NaN   \n",
       "44780  rimte    5  NaN NaN NaN NaN  1.0 NaN  NaN  NaN  ... NaN NaN NaN NaN   \n",
       "\n",
       "        z   å    æ   é   ø   ü  \n",
       "32825 NaN NaN  1.0 NaN NaN NaN  \n",
       "39784 NaN NaN  NaN NaN NaN NaN  \n",
       "21067 NaN NaN  NaN NaN NaN NaN  \n",
       "36942 NaN NaN  NaN NaN NaN NaN  \n",
       "44780 NaN NaN  NaN NaN NaN NaN  \n",
       "\n",
       "[5 rows x 33 columns]"
      ]
     },
     "execution_count": 10,
     "metadata": {},
     "output_type": "execute_result"
    }
   ],
   "source": [
    "# Et par eksempler:\n",
    "df[df[\"len\"] == 5].sample(5)"
   ]
  },
  {
   "cell_type": "markdown",
   "id": "d2640dc7-ea92-41d8-99df-7331521277cf",
   "metadata": {},
   "source": [
    "Af de ca 64.000 ord i retskrivningsordbogen er der 3759 ord (~6%) med 5 bogstaver. Lad os se på en frekvensoptælling af bogstaverne. Selv om et bogstav forekommer to gange i et ord så optælles det kun som én gang forekomnst."
   ]
  },
  {
   "cell_type": "code",
   "execution_count": 11,
   "id": "ce7bad3d-cc2d-493b-b5c9-b7efbd737433",
   "metadata": {},
   "outputs": [
    {
     "data": {
      "image/png": "[encoded data removed]",
      "text/plain": [
       "<Figure size 720x432 with 1 Axes>"
      ]
     },
     "metadata": {
      "needs_background": "light"
     },
     "output_type": "display_data"
    }
   ],
   "source": [
    "df[df[\"len\"] == 5].iloc[:, 2:].count().sort_values(ascending=False)[:25].plot.bar(\n",
    "    figsize=(10, 6),\n",
    "    title=\"Frekvensfordeling i danske ord på 5 bogstaver\",\n",
    "    ylabel=\"Antal\",\n",
    ");"
   ]
  },
  {
   "cell_type": "code",
   "execution_count": 12,
   "id": "e53a612b-1306-49d5-819a-20b44867b5c9",
   "metadata": {},
   "outputs": [
    {
     "data": {
      "text/plain": [
       "e    0.604416\n",
       "r    0.346635\n",
       "s    0.310987\n",
       "a    0.310189\n",
       "l    0.290503\n",
       "dtype: float64"
      ]
     },
     "execution_count": 12,
     "metadata": {},
     "output_type": "execute_result"
    }
   ],
   "source": [
    "# Frekvens i %\n",
    "df[df[\"len\"] == 5].iloc[:, 2:].count().sort_values(ascending=False)[:5] / df[\n",
    "    df[\"len\"] == 5\n",
    "].shape[0]"
   ]
  },
  {
   "cell_type": "markdown",
   "id": "60996edc-8806-47ee-a52d-09d03a63425a",
   "metadata": {},
   "source": [
    "Dvs. de 10 mest almindelige bogstaver er e, r, s, a, l, t, n, i, d og o. E forekommer i 60% af alle 5 bogstavsord.\n",
    "\n",
    "Lad os se på fordelingen i alle andre ord som ikke har 5 bogstaver"
   ]
  },
  {
   "cell_type": "code",
   "execution_count": 13,
   "id": "98be5303-1b80-4f8f-9d8e-fb972ce40690",
   "metadata": {},
   "outputs": [
    {
     "data": {
      "image/png": "[encoded data removed]",
      "text/plain": [
       "<Figure size 720x432 with 1 Axes>"
      ]
     },
     "metadata": {
      "needs_background": "light"
     },
     "output_type": "display_data"
    }
   ],
   "source": [
    "df[df[\"len\"] != 5].iloc[:, 2:].count().sort_values(ascending=False)[:25].plot.bar(\n",
    "    figsize=(10, 6),\n",
    "    title=\"Frekvensfordeling i danske ord som ikke er på 5 bogstaver\",\n",
    "    ylabel=\"Antal\",\n",
    ");"
   ]
  },
  {
   "cell_type": "markdown",
   "id": "0e13fb28-60ed-4ad4-971e-08c814da90d2",
   "metadata": {},
   "source": [
    "Interessant, et lidt andet billede. Vi fortsætter med fordelingen med 5 bogstavsord"
   ]
  },
  {
   "cell_type": "markdown",
   "id": "4f93398f-31d7-4486-97e9-01606893cc57",
   "metadata": {},
   "source": [
    "Her er en funktion der returnerer alle 5 bogstavsord fra retskrivningsordbogen der indeholder de angivne bogstaver."
   ]
  },
  {
   "cell_type": "code",
   "execution_count": 14,
   "id": "f2cd7e62-7e5c-4875-a096-4322b645008d",
   "metadata": {},
   "outputs": [],
   "source": [
    "def check_letters(s: str, len: int = 5) -> str:\n",
    "    res = []\n",
    "    for i, row in df[df[\"len\"] == len].iterrows():\n",
    "        if set(sorted(s.lower())).issubset(sorted(row[\"ord\"].lower())):\n",
    "            res.append(row[\"ord\"])\n",
    "    return res"
   ]
  },
  {
   "cell_type": "code",
   "execution_count": 15,
   "id": "b57e4ea7-6aee-4de4-93a5-a0d986bfb547",
   "metadata": {},
   "outputs": [
    {
     "data": {
      "text/plain": [
       "['laser', 'rasle']"
      ]
     },
     "execution_count": 15,
     "metadata": {},
     "output_type": "execute_result"
    }
   ],
   "source": [
    "# hvilket ord kan dannes af de fem hyppigske bogstaver i danske ord med fem bogstaver:\n",
    "check_letters(\"ersal\")"
   ]
  },
  {
   "cell_type": "code",
   "execution_count": 16,
   "id": "4ddbcaea-7c29-4377-8f4c-ef1fe42de361",
   "metadata": {},
   "outputs": [
    {
     "data": {
      "text/plain": [
       "['nutid', 'tinde', 'trind']"
      ]
     },
     "execution_count": 16,
     "metadata": {},
     "output_type": "execute_result"
    }
   ],
   "source": [
    "# og med de næste fire (der er ingen ord med bogstaverne tnido\n",
    "check_letters(\"tnid\")"
   ]
  },
  {
   "cell_type": "markdown",
   "id": "8e462396-1d08-4b06-a4b5-faead5d742d0",
   "metadata": {},
   "source": [
    "Et god bud på de to første ord kunne være \"laser\" og \"nutid\". Lad os undersøge hvor mange bogstaver vi vil finde hvis de to ord er de første to gæt."
   ]
  },
  {
   "cell_type": "code",
   "execution_count": 17,
   "id": "e32514a1-f372-4f43-96ad-8d61646f851d",
   "metadata": {},
   "outputs": [],
   "source": [
    "def count_overlap(s1: str, s2: str) -> int:\n",
    "    return len(set(s1) & set(s2))"
   ]
  },
  {
   "cell_type": "code",
   "execution_count": 18,
   "id": "5e21e279-0126-4626-bad6-8a0adc6db5ad",
   "metadata": {},
   "outputs": [],
   "source": [
    "df[\"laser\"] = df.apply(lambda x: count_overlap(x[\"ord\"], \"laser\"), axis=1)\n",
    "df[\"nutid\"] = df.apply(lambda x: count_overlap(x[\"ord\"], \"nutid\"), axis=1)\n",
    "df[\"top10\"] = df[\"laser\"] + df[\"nutid\"]"
   ]
  },
  {
   "cell_type": "code",
   "execution_count": 19,
   "id": "a31fa6b3-8528-4a61-969c-3fd2ba7f3dd6",
   "metadata": {},
   "outputs": [
    {
     "data": {
      "image/png": "[encoded data removed]",
      "text/plain": [
       "<Figure size 720x432 with 1 Axes>"
      ]
     },
     "metadata": {
      "needs_background": "light"
     },
     "output_type": "display_data"
    }
   ],
   "source": [
    "df[df[\"len\"] == 5][\"top10\"].value_counts(normalize=True).sort_index().plot.bar(\n",
    "    figsize=(10, 6),\n",
    "    title=\"Sandsynlighed for antal rigtige bogstaver efter der to første gæt\",\n",
    "    xlabel=\"Rigtige bogstaver\",\n",
    "    ylabel=\"Sandsynlighed\",\n",
    ");"
   ]
  },
  {
   "cell_type": "code",
   "execution_count": 20,
   "id": "866610ab-bdc9-4e95-926c-c6898bc02753",
   "metadata": {},
   "outputs": [
    {
     "data": {
      "text/plain": [
       "0.7121574886938016"
      ]
     },
     "execution_count": 20,
     "metadata": {},
     "output_type": "execute_result"
    }
   ],
   "source": [
    "df[df[\"len\"] == 5][\"top10\"].value_counts(normalize=True).sort_index()[3:].sum()"
   ]
  },
  {
   "cell_type": "markdown",
   "id": "95295b6f-78a5-4f16-a3b3-add408113958",
   "metadata": {},
   "source": [
    "### Konklusion\n",
    "Hvis de to første gæt er \"laser\" og \"nutid\" vil vi med ~71% sandsynlighed have 3 eller flere rigtige bogstaver"
   ]
  },
  {
   "cell_type": "code",
   "execution_count": null,
   "id": "33b3ca27-a518-4e73-bd20-6f8e581ac177",
   "metadata": {},
   "outputs": [],
   "source": []
  }
 ],
 "metadata": {
  "kernelspec": {
   "display_name": "Python [conda env:myenv] *",
   "language": "python",
   "name": "conda-env-myenv-py"
  },
  "language_info": {
   "codemirror_mode": {
    "name": "ipython",
    "version": 3
   },
   "file_extension": ".py",
   "mimetype": "text/x-python",
   "name": "python",
   "nbconvert_exporter": "python",
   "pygments_lexer": "ipython3",
   "version": "3.9.7"
  }
 },
 "nbformat": 4,
 "nbformat_minor": 5
}
